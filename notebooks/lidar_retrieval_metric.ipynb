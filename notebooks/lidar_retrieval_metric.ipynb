{
 "cells": [
  {
   "cell_type": "code",
   "execution_count": null,
   "metadata": {},
   "outputs": [],
   "source": [
    "import torch\n",
    "\n",
    "device = \"cuda\" if torch.cuda.is_available() else \"cpu\"\n",
    "print(device)"
   ]
  },
  {
   "cell_type": "code",
   "execution_count": null,
   "metadata": {},
   "outputs": [],
   "source": [
    "from lidar_clippin.model.sst import build_sst\n",
    "from mmcv.runner import load_checkpoint\n",
    "from lidar_clippin.model.sst import LidarEncoderSST\n",
    "import pytorch_lightning as pl\n",
    "import clip\n",
    "import os\n",
    "from train import LidarClippin\n",
    "\n",
    "clip_model, clip_preprocess = clip.load(\"ViT-B/32\")\n",
    "lidar_encoder = LidarEncoderSST(\"../lidar_clippin/model/sst_encoder_only_config.py\")\n",
    "model = LidarClippin(lidar_encoder, clip_model, 1)\n",
    "load_checkpoint(model, \"/proj/nlp4adas/checkpoints/35vsmuyp/epoch=97-step=32842.ckpt\", map_location=\"cpu\")\n",
    "model.to(device)"
   ]
  },
  {
   "cell_type": "code",
   "execution_count": null,
   "metadata": {},
   "outputs": [],
   "source": [
    "from lidar_clippin.loader import build_loader\n",
    "batch_size = 32\n",
    "loader = build_loader(\"/proj/nlp4adas/datasets/once\", clip_preprocess, batch_size=batch_size, num_workers=1, split=\"val\")"
   ]
  },
  {
   "cell_type": "code",
   "execution_count": null,
   "metadata": {},
   "outputs": [],
   "source": [
    "img_feats = torch.load(\"img_feats_val.pt\").to(device)\n",
    "lidar_feats = torch.load(\"lidar_feats_val.pt\").to(device)"
   ]
  },
  {
   "cell_type": "code",
   "execution_count": null,
   "metadata": {},
   "outputs": [],
   "source": [
    "def logit_img_txt(img_feat, txt_feat, model):\n",
    "    img_feat = img_feat / img_feat.norm(dim=1, keepdim=True)\n",
    "    txt_feat = txt_feat / txt_feat.norm(dim=1, keepdim=True)\n",
    "\n",
    "    # cosine similarity as logits\n",
    "    logit_scale = model.logit_scale.exp().float()\n",
    "    logits_per_image = logit_scale * img_feat.float() @ txt_feat.t().float()\n",
    "    logits_per_text = logits_per_image.t()\n",
    "    return logits_per_text, logits_per_image"
   ]
  },
  {
   "cell_type": "code",
   "execution_count": null,
   "metadata": {},
   "outputs": [],
   "source": [
    "# Encode some text\n",
    "text = clip.tokenize([\"a car\", \"a bus\", \"a truck\", \"a person\", \"a construction vehicle\", \"a tree\", \"a bush\"]).to(device)\n",
    "#text = clip.tokenize([\"a rural road\", \"a urban road\", \"a highway\", \"an overhead bridge\", \"a cross-walk\"]).to(device)\n",
    "#text = clip.tokenize([\"an image at night\", \"an image during the day\"]).to(device)\n",
    "#text = clip.tokenize([\"a road with cars\", \"an empty road\"]).to(device)\n",
    "#text = clip.tokenize([\"a tiny car\", \"a small car\", \"a normal-size car\", \"a big car\", \"a huge car\"]).to(device)\n",
    "#text = clip.tokenize([\"a white car\", \"a black car\", \"a red car\", \"a green car\", \"a blue car\", \"a yellow car\"]).to(device)\n",
    "#text = clip.tokenize([\"a cross-walk\", \"an empty road\", \"a crossing\"]).to(device)\n",
    "#text = clip.tokenize([\"a wet road\", \"a dry road\"]).to(device)\n",
    "#text = clip.tokenize([\"the front of a car\", \"the back of a car\", \"the side of a car\"]).to(device)\n",
    "text = clip.tokenize([\"a photo of a car in traffic\", \"a photo of a person in traffic\", \"a photo of a bike in traffic\", \"a photo of an empty road\"]).to(device)\n",
    "with torch.no_grad():\n",
    "    text_features = clip_model.encode_text(text)\n"
   ]
  },
  {
   "cell_type": "code",
   "execution_count": null,
   "metadata": {},
   "outputs": [],
   "source": [
    "logits_per_text_l, logits_per_pc = logit_img_txt(lidar_feats, text_features, clip_model)\n",
    "logits_per_text_i, logits_per_img = logit_img_txt(img_feats, text_features, clip_model)"
   ]
  },
  {
   "cell_type": "code",
   "execution_count": null,
   "metadata": {},
   "outputs": [],
   "source": [
    "pc_logits, pc_idxs = torch.topk(logits_per_text_l[0,:], 16)\n",
    "img_logits, img_idxs = torch.topk(logits_per_text_i[0,:], 16)"
   ]
  },
  {
   "cell_type": "code",
   "execution_count": null,
   "metadata": {},
   "outputs": [],
   "source": [
    "from einops import rearrange\n",
    "from matplotlib import pyplot as plt\n",
    "means = torch.tensor([0.48145466, 0.4578275, 0.40821073], device=\"cpu\")\n",
    "stds = torch.tensor([0.26862954, 0.26130258, 0.27577711], device=\"cpu\")\n",
    "\n",
    "dataset = loader.dataset\n",
    "\n",
    "fig, axs = plt.subplots(4,4, figsize=(15, 15))\n",
    "for i in range(4):\n",
    "    for j in range(4):\n",
    "        idx = i*4 + j\n",
    "        logit = pc_logits[idx]\n",
    "        d_idx = pc_idxs[idx]\n",
    "        \n",
    "        img, _ = dataset[d_idx]\n",
    "        \n",
    "        \n",
    "        axs[i,j].imshow(rearrange(img, \"c h w -> h w c\").cpu()*stds+means)\n",
    "        axs[i,j].set_title(idx)"
   ]
  },
  {
   "cell_type": "code",
   "execution_count": null,
   "metadata": {},
   "outputs": [],
   "source": [
    "import numpy as np\n",
    "fig, axs = plt.subplots(4,4, figsize=(30, 15))\n",
    "for i in range(4):\n",
    "    for j in range(4):\n",
    "        idx = i*4 + j\n",
    "        logit = pc_logits[idx]\n",
    "        d_idx = pc_idxs[idx]\n",
    "        _, pc = dataset[d_idx]\n",
    "        \n",
    "        pc = pc.cpu()\n",
    "        axs[i,j].scatter(-pc[:,1], pc[:,0], s=0.1, c=np.clip(pc[:, 3], 0, 1), cmap=\"coolwarm\")\n",
    "        axs[i,j].axis(\"equal\")\n",
    "        axs[i,j].set_xlim(-40, 40)\n",
    "        axs[i,j].set_ylim(0, 40)\n",
    "        axs[i,j].set_title(idx)\n",
    "\n",
    "plt.show()"
   ]
  },
  {
   "cell_type": "code",
   "execution_count": null,
   "metadata": {},
   "outputs": [],
   "source": [
    "import numpy as np\n",
    "fig, axs = plt.subplots(4,4, figsize=(30, 15))\n",
    "for i in range(4):\n",
    "    for j in range(4):\n",
    "        idx = i*4 + j\n",
    "        logit = logits[idx]\n",
    "        d_idx = idxs[idx]\n",
    "        _, pc = dataset[d_idx]\n",
    "        \n",
    "        pc = pc.cpu()\n",
    "        axs[i,j].scatter(-pc[:,1], pc[:,0], s=0.1, c=np.clip(pc[:, 3], 0, 1), cmap=\"coolwarm\")\n",
    "        axs[i,j].axis(\"equal\")\n",
    "        axs[i,j].set_xlim(-40, 40)\n",
    "        axs[i,j].set_ylim(0, 40)\n",
    "        axs[i,j].set_title(idx)\n",
    "\n",
    "plt.show()"
   ]
  },
  {
   "cell_type": "code",
   "execution_count": null,
   "metadata": {},
   "outputs": [],
   "source": [
    "from einops import rearrange\n",
    "from matplotlib import pyplot as plt\n",
    "means = torch.tensor([0.48145466, 0.4578275, 0.40821073], device=\"cpu\")\n",
    "stds = torch.tensor([0.26862954, 0.26130258, 0.27577711], device=\"cpu\")\n",
    "\n",
    "dataset = loader.dataset\n",
    "\n",
    "fig, axs = plt.subplots(4,4, figsize=(15, 15))\n",
    "for i in range(4):\n",
    "    for j in range(4):\n",
    "        idx = i*4 + j\n",
    "        logit = logits[idx]\n",
    "        d_idx = idxs[idx]\n",
    "        \n",
    "        img, _ = dataset[d_idx]\n",
    "        \n",
    "        \n",
    "        axs[i,j].imshow(rearrange(img, \"c h w -> h w c\").cpu()*stds+means)\n",
    "        axs[i,j].set_title(logit.item())\n",
    "        axs[i,j].axis('off')\n",
    "        "
   ]
  }
 ],
 "metadata": {
  "kernelspec": {
   "display_name": "Python 3",
   "language": "python",
   "name": "python3"
  },
  "language_info": {
   "codemirror_mode": {
    "name": "ipython",
    "version": 3
   },
   "file_extension": ".py",
   "mimetype": "text/x-python",
   "name": "python",
   "nbconvert_exporter": "python",
   "pygments_lexer": "ipython3",
   "version": "3.9.10"
  },
  "vscode": {
   "interpreter": {
    "hash": "6a35c780d314427ecb20b68546d8d1571c475cf84e7f6fe24f20f6ef1d440173"
   }
  }
 },
 "nbformat": 4,
 "nbformat_minor": 2
}
