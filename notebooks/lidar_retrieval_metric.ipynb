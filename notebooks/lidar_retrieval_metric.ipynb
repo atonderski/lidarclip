{
 "cells": [
  {
   "cell_type": "code",
   "execution_count": null,
   "metadata": {},
   "outputs": [],
   "source": [
    "import torch\n",
    "\n",
    "device = \"cuda\" if torch.cuda.is_available() else \"cpu\"\n",
    "print(device)"
   ]
  },
  {
   "cell_type": "code",
   "execution_count": null,
   "metadata": {},
   "outputs": [],
   "source": [
    "from lidar_clippin.model.sst import build_sst\n",
    "from mmcv.runner import load_checkpoint\n",
    "from lidar_clippin.model.sst import LidarEncoderSST\n",
    "import pytorch_lightning as pl\n",
    "import clip\n",
    "import os\n",
    "from train import LidarClippin\n",
    "\n",
    "clip_model, clip_preprocess = clip.load(\"ViT-B/32\")\n",
    "lidar_encoder = LidarEncoderSST(\"../lidar_clippin/model/sst_encoder_only_config.py\")\n",
    "model = LidarClippin(lidar_encoder, clip_model, 1, 1)\n",
    "load_checkpoint(model, \"/proj/nlp4adas/checkpoints/35vsmuyp/epoch=97-step=32842.ckpt\", map_location=\"cpu\")\n",
    "model.to(device)\n",
    "pass"
   ]
  },
  {
   "cell_type": "code",
   "execution_count": null,
   "metadata": {},
   "outputs": [],
   "source": [
    "from lidar_clippin.loader import build_loader\n",
    "batch_size = 32\n",
    "loader = build_loader(\"/proj/nlp4adas/datasets/once\", clip_preprocess, batch_size=batch_size, num_workers=1, split=\"val\")"
   ]
  },
  {
   "cell_type": "code",
   "execution_count": null,
   "metadata": {},
   "outputs": [],
   "source": [
    "img_feats = torch.load(\"img_feats_val.pt\").to(device)\n",
    "lidar_feats = torch.load(\"lidar_feats_val.pt\").to(device)"
   ]
  },
  {
   "cell_type": "code",
   "execution_count": null,
   "metadata": {},
   "outputs": [],
   "source": [
    "def logit_img_txt(img_feat, txt_feat, model):\n",
    "    img_feat = img_feat / img_feat.norm(dim=1, keepdim=True)\n",
    "    txt_feat = txt_feat / txt_feat.norm(dim=1, keepdim=True)\n",
    "\n",
    "    # cosine similarity as logits\n",
    "    logit_scale = model.logit_scale.exp().float()\n",
    "    logits_per_image = logit_scale * img_feat.float() @ txt_feat.t().float()\n",
    "    logits_per_text = logits_per_image.t()\n",
    "    return logits_per_text, logits_per_image"
   ]
  },
  {
   "cell_type": "code",
   "execution_count": null,
   "metadata": {},
   "outputs": [],
   "source": [
    "# Encode some text\n",
    "text = clip.tokenize([\"a photo of an animal on the road\"]).to(device)\n",
    "with torch.no_grad():\n",
    "    text_features = clip_model.encode_text(text)\n",
    "logits_per_text_l, logits_per_pc = logit_img_txt(lidar_feats, text_features, clip_model)\n",
    "logits_per_text_i, logits_per_img = logit_img_txt(img_feats, text_features, clip_model)\n",
    "pc_logits, pc_idxs = torch.topk(logits_per_text_l[0,:], 16)\n",
    "img_logits, img_idxs = torch.topk(logits_per_text_i[0,:], 16)"
   ]
  },
  {
   "cell_type": "code",
   "execution_count": null,
   "metadata": {},
   "outputs": [],
   "source": [
    "from einops import rearrange\n",
    "from matplotlib import pyplot as plt\n",
    "means = torch.tensor([0.48145466, 0.4578275, 0.40821073], device=\"cpu\")\n",
    "stds = torch.tensor([0.26862954, 0.26130258, 0.27577711], device=\"cpu\")\n",
    "\n",
    "dataset = loader.dataset\n",
    "\n",
    "fig, axs = plt.subplots(4,4, figsize=(15, 15))\n",
    "for i in range(4):\n",
    "    for j in range(4):\n",
    "        idx = i*4 + j\n",
    "        logit = pc_logits[idx]\n",
    "        d_idx = pc_idxs[idx]\n",
    "        \n",
    "        img, _ = dataset[d_idx]\n",
    "        \n",
    "        axs[i,j].imshow(rearrange(img, \"c h w -> h w c\").cpu()*stds+means)\n",
    "        axs[i,j].set_title(idx)\n"
   ]
  },
  {
   "cell_type": "code",
   "execution_count": null,
   "metadata": {},
   "outputs": [],
   "source": [
    "import numpy as np\n",
    "fig, axs = plt.subplots(4,4, figsize=(30, 15))\n",
    "for i in range(4):\n",
    "    for j in range(4):\n",
    "        idx = i*4 + j\n",
    "        logit = pc_logits[idx]\n",
    "        d_idx = pc_idxs[idx]\n",
    "        _, pc = dataset[d_idx]\n",
    "        \n",
    "        pc = pc.cpu()\n",
    "        axs[i,j].scatter(-pc[:,1], pc[:,0], s=0.1, c=np.clip(pc[:, 3], 0, 1), cmap=\"coolwarm\")\n",
    "        axs[i,j].axis(\"equal\")\n",
    "        axs[i,j].set_xlim(-40, 40)\n",
    "        axs[i,j].set_ylim(0, 40)\n",
    "        axs[i,j].set_title(idx)\n",
    "\n",
    "plt.show()"
   ]
  },
  {
   "cell_type": "code",
   "execution_count": null,
   "metadata": {},
   "outputs": [],
   "source": [
    "# Automatically generate a number of prompts\n",
    "import itertools\n",
    "objects = [\"car\", \"person walking on the road\", \"semi-truck\", \"bus\", \"parked bicycle\", \"person riding a bike\", \"forest\"]\n",
    "environments = [\"on a rainy day\", \"to the left of the image\", \"on an empty road\", \"at night\", \"in winter\"]\n",
    "prompts = [f\"a photo of a {obj[0]} {obj[1]}\" for obj in itertools.product(objects, environments)]\n",
    "prompts"
   ]
  },
  {
   "cell_type": "code",
   "execution_count": null,
   "metadata": {},
   "outputs": [],
   "source": [
    "text = clip.tokenize(prompts).to(device)\n",
    "with torch.no_grad():\n",
    "    text_features = clip_model.encode_text(text)\n",
    "logits_per_text_l, logits_per_pc = logit_img_txt(lidar_feats, text_features, clip_model)\n",
    "logits_per_text_i, logits_per_img = logit_img_txt(img_feats, text_features, clip_model)"
   ]
  },
  {
   "cell_type": "code",
   "execution_count": null,
   "metadata": {
    "scrolled": false
   },
   "outputs": [],
   "source": [
    "from einops import rearrange\n",
    "from matplotlib import pyplot as plt\n",
    "means = torch.tensor([0.48145466, 0.4578275, 0.40821073], device=\"cpu\")\n",
    "stds = torch.tensor([0.26862954, 0.26130258, 0.27577711], device=\"cpu\")\n",
    "\n",
    "dataset = loader.dataset\n",
    "\n",
    "num_prompts = len(prompts)\n",
    "num_samples = 4\n",
    "\n",
    "for i in range(num_prompts):\n",
    "    pc_logits, pc_idxs = torch.topk(logits_per_text_l[i,:], num_samples)\n",
    "    img_logits, img_idxs = torch.topk(logits_per_text_i[i,:], num_samples)\n",
    "    print(prompts[i])\n",
    "    fig, axs = plt.subplots(1, num_samples, figsize=(15, 15))\n",
    "#     fig.suptitle(prompts[i])\n",
    "    for j in range(num_samples):\n",
    "        logit = pc_logits[j]\n",
    "        d_idx = pc_idxs[j]\n",
    "        \n",
    "        img, _ = dataset[d_idx]\n",
    "        \n",
    "        axs[j].imshow(rearrange(img, \"c h w -> h w c\").cpu()*stds+means)\n",
    "#         axs[j].set_title(idx)\n",
    "    plt.show()\n",
    "\n"
   ]
  },
  {
   "cell_type": "code",
   "execution_count": null,
   "metadata": {},
   "outputs": [],
   "source": []
  },
  {
   "cell_type": "code",
   "execution_count": null,
   "metadata": {},
   "outputs": [],
   "source": []
  }
 ],
 "metadata": {
  "kernelspec": {
   "display_name": "Python 3",
   "language": "python",
   "name": "python3"
  },
  "language_info": {
   "codemirror_mode": {
    "name": "ipython",
    "version": 3
   },
   "file_extension": ".py",
   "mimetype": "text/x-python",
   "name": "python",
   "nbconvert_exporter": "python",
   "pygments_lexer": "ipython3",
   "version": "3.8.10"
  },
  "vscode": {
   "interpreter": {
    "hash": "6a35c780d314427ecb20b68546d8d1571c475cf84e7f6fe24f20f6ef1d440173"
   }
  }
 },
 "nbformat": 4,
 "nbformat_minor": 2
}
