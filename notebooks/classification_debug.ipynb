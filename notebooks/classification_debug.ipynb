{
 "cells": [
  {
   "cell_type": "code",
   "execution_count": null,
   "metadata": {},
   "outputs": [],
   "source": [
    "import torch\n",
    "import sys\n",
    "import itertools\n",
    "from functools import partial\n",
    "from typing import Dict\n",
    "\n",
    "from tqdm import tqdm\n",
    "import clip\n",
    "sys.path.append('..')\n",
    "from lidarclip.anno_loader import build_anno_loader, CLASSES, WEATHERS\n",
    "from lidarclip.helpers import MultiLoader, try_paths, logit_img_txt\n",
    "device = \"cuda\" if torch.cuda.is_available() else \"cpu\"\n",
    "print(device)"
   ]
  },
  {
   "cell_type": "code",
   "execution_count": null,
   "metadata": {},
   "outputs": [],
   "source": [
    "from lidarclip.prompts import OBJECT_PROMPT_TEMPLATES\n",
    "print(\"Num prompts per subcategory:\")\n",
    "print(f\"  Objects: {len(OBJECT_PROMPT_TEMPLATES)}\")"
   ]
  },
  {
   "cell_type": "code",
   "execution_count": null,
   "metadata": {},
   "outputs": [],
   "source": [
    "CLIP_VERSION = \"ViT-L/14\"\n",
    "\n",
    "# Load data and features\n",
    "batch_size = 1\n",
    "clip_model, clip_preprocess = clip.load(CLIP_VERSION)\n",
    "feature_version = CLIP_VERSION.lower().replace(\"/\", \"-\")\n",
    "feature_root = try_paths(\"/proj/nlp4adas/features\", \"../features\")\n",
    "bev_feats = torch.load(f\"{feature_root}/once_{feature_version}_val_lidar_objs_bev_debug.pt\", map_location=device)\n",
    "dataset_root = try_paths(\"/proj/nlp4adas/datasets/once\", \"/Users/s0000960/data/once/\")\n",
    "loader = build_anno_loader(dataset_root, clip_preprocess, batch_size=1, num_workers=0, split=\"val\", skip_data=False, skip_anno=False, )\n",
    "print(bev_feats.shape)\n",
    "img, pc, anno, _ = next(iter(loader))\n",
    "img, pc, anno = img[0], pc[0].numpy(), anno[0] "
   ]
  },
  {
   "cell_type": "code",
   "execution_count": null,
   "metadata": {},
   "outputs": [],
   "source": [
    "CATEGORIES = CLASSES\n",
    "def gen_cls_embedding(cls_name: str) -> torch.Tensor:\n",
    "    print(f\"Generating embedding for {cls_name}\")\n",
    "    # prompts = [template.format(cls_name) for template in OBJECT_PROMPT_TEMPLATES]\n",
    "    prompts = [cls_name]\n",
    "    with torch.no_grad():\n",
    "        tokenized_prompts = clip.tokenize(prompts).to(device)\n",
    "        cls_features = clip_model.encode_text(tokenized_prompts)\n",
    "        return cls_features.sum(axis=0, keepdim=True)\n",
    "cls_embeddings = {name: gen_cls_embedding(name) for name in CATEGORIES}\n",
    "print(\"Generated embeddings for: \", list(cls_embeddings.keys()))\n",
    "cls_embeddings_pt = torch.vstack(list(cls_embeddings.values()))"
   ]
  },
  {
   "cell_type": "code",
   "execution_count": null,
   "metadata": {},
   "outputs": [],
   "source": [
    "from collections import defaultdict\n",
    "from einops import rearrange\n",
    "bev_cls_logits,_ = logit_img_txt(rearrange(bev_feats, \"1 h w c -> (h w) c\"), cls_embeddings_pt, clip_model)\n",
    "bev_cls_scores = rearrange(bev_cls_logits.softmax(0), \"c (h w) -> h w c\", h=bev_feats.shape[-3], w=bev_feats.shape[-2])\n",
    "print(bev_cls_scores.shape)\n"
   ]
  },
  {
   "cell_type": "code",
   "execution_count": null,
   "metadata": {},
   "outputs": [],
   "source": [
    "import numpy as np\n",
    "import matplotlib.pyplot as plt\n",
    "\n",
    "means = torch.tensor([0.48145466, 0.4578275, 0.40821073], device=\"cpu\")\n",
    "stds = torch.tensor([0.26862954, 0.26130258, 0.27577711], device=\"cpu\")\n",
    "\n",
    "\n",
    "def plot_weighted_cloud(pc, weight, img, plot_weight_grid=False, use_colorbar=False, cmap=\"coolwarm\", half_cloud=False, title=None):\n",
    "    if half_cloud:\n",
    "        pc = pc[pc[:,0] < 20]\n",
    "        pc = pc[pc[:,1] < 10]\n",
    "        pc = pc[pc[:,1] > -10]\n",
    "        x_idx = (pc[:,0] / 0.5).astype(np.int32)\n",
    "        y_idx = ((pc[:,1] + 10) / 0.5).astype(np.int32)\n",
    "    else:\n",
    "        pc = pc[pc[:,0] < 40]\n",
    "        pc = pc[pc[:,1] < 20]\n",
    "        pc = pc[pc[:,1] > -20]\n",
    "        x_idx = (pc[:,0] / 0.5).astype(np.int32)\n",
    "        y_idx = ((pc[:,1] + 20) / 0.5).astype(np.int32)\n",
    "\n",
    "    plt.figure(dpi=200)\n",
    "    col = weight[y_idx, x_idx]\n",
    "    plt.scatter(-pc[:,1], pc[:,0], s=0.1, c=col**0.3, cmap=cmap)\n",
    "    plt.axis(\"scaled\")\n",
    "    if half_cloud:\n",
    "        plt.ylim(0, 20)\n",
    "        plt.xlim(-10, 10)\n",
    "    else:\n",
    "        plt.ylim(0, 40)\n",
    "        plt.xlim(-13, 13)\n",
    "    if use_colorbar:\n",
    "        plt.colorbar()\n",
    "    if title:\n",
    "        plt.title(title)\n",
    "    plt.show()\n",
    "    if plot_weight_grid:\n",
    "        plt.matshow(weight.T**0.5)\n",
    "        plt.show()\n",
    "    plt.figure(dpi=200)\n",
    "    plt.axis('off')\n",
    "    plt.imshow(rearrange(img, \"c h w -> h w c\").cpu()*stds+means)\n",
    "    plt.show()"
   ]
  },
  {
   "cell_type": "code",
   "execution_count": null,
   "metadata": {},
   "outputs": [],
   "source": [
    "weight = np.argmax(bev_cls_scores.detach(), axis=-1)\n",
    "weight = bev_cls_scores[..., 2].detach()\n",
    "plot_weighted_cloud(pc, weight, img, plot_weight_grid=False, cmap=\"coolwarm\")\n"
   ]
  },
  {
   "cell_type": "code",
   "execution_count": null,
   "metadata": {},
   "outputs": [],
   "source": [
    "from skimage.draw import polygon2mask\n",
    "\n",
    "VOXEL_SIZE=0.5\n",
    "_, y_dim, x_dim, _ = bev_feats.shape\n",
    "\n",
    "for box3d in anno[\"boxes_3d\"]:\n",
    "    # Convert box to feature grid space\n",
    "    box_center = box3d[:2] / VOXEL_SIZE\n",
    "    # Compensate y coordinate for the fact that the lidar features are\n",
    "    # centered around the ego vehicle in the y direction (x starts from 0)\n",
    "    box_center[1] += y_dim / 2\n",
    "    box_size = box3d[3:5] / VOXEL_SIZE\n",
    "    box_rotation = -torch.Tensor([box3d[6]])\n",
    "\n",
    "    # Create the corner points of the bounding box\n",
    "    box_points = torch.tensor(\n",
    "        [\n",
    "            [-box_size[0] / 2, -box_size[1] / 2],\n",
    "            [-box_size[0] / 2, box_size[1] / 2],\n",
    "            [box_size[0] / 2, box_size[1] / 2],\n",
    "            [box_size[0] / 2, -box_size[1] / 2],\n",
    "        ]\n",
    "    )\n",
    "    # Create a rotation matrix from the box rotation\n",
    "    rotation_matrix = torch.tensor(\n",
    "        [\n",
    "            [torch.cos(box_rotation), -torch.sin(box_rotation)],\n",
    "            [torch.sin(box_rotation), torch.cos(box_rotation)],\n",
    "        ]\n",
    "    )\n",
    "    # Rotate the corner points of the bounding box\n",
    "    box_points = torch.matmul(box_points, rotation_matrix) + box_center\n",
    "    # Create a mask of the pixels that are within the bounding box\n",
    "    # Flip x and y (since y is height and x is width)\n",
    "    mask = polygon2mask((x_dim, y_dim), box_points.cpu().numpy()[:, ::-1])\n",
    "    # Pool the features within the bounding box\n",
    "    # pooled_features = bev_feature[mask].mean(dim=(0))\n",
    "    plt.matshow(mask)\n",
    "    plt.show()\n",
    "plt.matshow(bev_feats[0].sum(-1))\n",
    "plt.show()"
   ]
  },
  {
   "cell_type": "code",
   "execution_count": null,
   "metadata": {},
   "outputs": [],
   "source": []
  },
  {
   "cell_type": "code",
   "execution_count": null,
   "metadata": {},
   "outputs": [],
   "source": []
  }
 ],
 "metadata": {
  "kernelspec": {
   "display_name": "Python 3",
   "language": "python",
   "name": "python3"
  },
  "language_info": {
   "codemirror_mode": {
    "name": "ipython",
    "version": 3
   },
   "file_extension": ".py",
   "mimetype": "text/x-python",
   "name": "python",
   "nbconvert_exporter": "python",
   "pygments_lexer": "ipython3",
   "version": "3.9.13"
  },
  "vscode": {
   "interpreter": {
    "hash": "8474fbf7fa6f299d9ca87dcd7358dfc28aa95d8ec78802489d98a6cd3ecc0cc3"
   }
  }
 },
 "nbformat": 4,
 "nbformat_minor": 2
}
