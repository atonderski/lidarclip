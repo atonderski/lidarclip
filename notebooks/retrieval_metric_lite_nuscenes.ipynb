{
 "cells": [
  {
   "cell_type": "code",
   "execution_count": null,
   "metadata": {},
   "outputs": [],
   "source": [
    "import torch\n",
    "import sys\n",
    "import itertools\n",
    "from functools import partial\n",
    "\n",
    "from tqdm import tqdm\n",
    "import clip\n",
    "sys.path.append('..')\n",
    "from lidarclip.anno_loader import build_anno_loader\n",
    "from lidarclip.anno_loader import NUSCENES_CLASSES as CLASSES\n",
    "from lidarclip.helpers import MultiLoader, try_paths, get_topk, get_topk_separate_prompts\n",
    "device = \"cuda\" if torch.cuda.is_available() else \"cpu\"\n",
    "print(device)"
   ]
  },
  {
   "cell_type": "code",
   "execution_count": null,
   "metadata": {},
   "outputs": [],
   "source": [
    "from lidarclip.prompts import OBJECT_PROMPT_TEMPLATES, BUSY_PROMPTS, EMPTY_PROMPTS\n",
    "print(\"Num prompts per subcategory:\")\n",
    "print(f\"  Busy: {len(BUSY_PROMPTS)}\")\n",
    "print(f\"  Empty: {len(EMPTY_PROMPTS)}\")\n",
    "print(f\"  Objects: {len(OBJECT_PROMPT_TEMPLATES)}\")"
   ]
  },
  {
   "cell_type": "code",
   "execution_count": null,
   "metadata": {},
   "outputs": [],
   "source": [
    "CLIP_VERSION = \"ViT-L/14\"\n",
    "\n",
    "# Load data and features\n",
    "clip_model, clip_preprocess = clip.load(CLIP_VERSION)\n",
    "get_topk = partial(get_topk, clip_model=clip_model, device=device)\n",
    "get_topk_separate_prompts = partial(get_topk_separate_prompts, clip_model=clip_model, device=device)\n",
    "\n",
    "dataset_root = try_paths(\"/proj/nlp4adas/datasets/nuscenes\", \"/Users/s0000960/data/nuscenes/\")\n",
    "anno_loader = build_anno_loader(dataset_root, clip_preprocess, batch_size=1, num_workers=0, split=\"val\", skip_data=True, skip_anno=False, dataset_name=\"nuscenes\")\n",
    "\n",
    "feature_version = CLIP_VERSION.lower().replace(\"/\", \"-\")\n",
    "feature_root = try_paths(\"/proj/nlp4adas/features\", \"../features\")\n",
    "\n",
    "anno_img_feats = torch.load(f\"{feature_root}/nuscenes_{feature_version}__joint-trained_val_img.pt\").to(device)\n",
    "anno_lidar_feats = torch.load(f\"{feature_root}/nuscenes_{feature_version}__joint-trained_val_lidar.pt\").to(device)\n",
    "# Compute joint features\n",
    "# anno_joint_feats = anno_img_feats / anno_img_feats.norm(dim=1, keepdim=True) + anno_lidar_feats / anno_lidar_feats.norm(dim=1, keepdim=True)\n",
    "anno_joint_feats = anno_img_feats + anno_lidar_feats\n",
    "\n",
    "print(len(anno_loader))"
   ]
  },
  {
   "cell_type": "code",
   "execution_count": null,
   "metadata": {},
   "outputs": [],
   "source": [
    "# Build masks\n",
    "BUSYNESS = (\"busy\", \"empty\")\n",
    "NEARBY_CLASSES = [f\"nearby {c}\" for c in CLASSES]\n",
    "NEARBY_CUTOFF = 20 # Longer than ONCE due to the smaller nuscenes dataset not having enough positives for eval\n",
    "\n",
    "masks = {name: torch.zeros(len(anno_loader), dtype=torch.bool) for name in itertools.chain(CLASSES, NEARBY_CLASSES, BUSYNESS)}\n",
    "\n",
    "for i, (_, _, anno, meta) in tqdm(enumerate(anno_loader)):\n",
    "    num_busy = 0\n",
    "    num_non_empty = 0\n",
    "#     print(i, \"num annos\", len(anno[0]['names']))\n",
    "    for name, box3d in zip(anno[0]['names'], anno[0]['boxes_3d']):\n",
    "        dist = box3d[:3].norm()\n",
    "        if dist < NEARBY_CUTOFF:\n",
    "            masks[f\"nearby {name}\"][i] = True\n",
    "        if name in (\"Car\", \"Bus\", \"Truck\", \"Trailer\"):\n",
    "            if dist < 30:\n",
    "                num_non_empty += 1\n",
    "            if dist < 60:\n",
    "                num_busy += 1\n",
    "#             print(i, name)\n",
    "        masks[name][i] = True\n",
    "#     print(i, num_busy)\n",
    "    if num_busy >= 3:\n",
    "#         print(i, \"busy\")\n",
    "        masks[\"busy\"][i] = True\n",
    "    if num_non_empty < 1:\n",
    "        masks[\"empty\"][i] = True\n"
   ]
  },
  {
   "cell_type": "code",
   "execution_count": null,
   "metadata": {},
   "outputs": [],
   "source": [
    "subcategories = [\n",
    "    (CLASSES, OBJECT_PROMPT_TEMPLATES, True),\n",
    "    (NEARBY_CLASSES, OBJECT_PROMPT_TEMPLATES, True),\n",
    "    (BUSYNESS, {\"busy\": BUSY_PROMPTS, \"empty\": EMPTY_PROMPTS}, True)\n",
    "]\n",
    "total_num = sum(len(subcat[0]) for subcat in subcategories)"
   ]
  },
  {
   "cell_type": "code",
   "execution_count": null,
   "metadata": {},
   "outputs": [],
   "source": [
    "PRINT_ELEMENTS = True\n",
    "PRINT_SUBCATEGORIES = False\n",
    "for K in [1,10,100]:\n",
    "    image_overall, lidar_overall, joint_overall = 0.0, 0.0, 0.0\n",
    "    for subcategory, prompt_template, needs_annos in subcategories:\n",
    "        image_subcat, lidar_subcat, joint_subcat = 0.0, 0.0, 0.0\n",
    "        for name in subcategory:\n",
    "            if isinstance(prompt_template, dict):\n",
    "                prompts = prompt_template[name]\n",
    "            else:\n",
    "                prompts = [prompt.format(name) for prompt in prompt_template]\n",
    "            if needs_annos:\n",
    "                img_idxs, pc_idxs, joint_idxs = get_topk(prompts, K, anno_img_feats, anno_lidar_feats, anno_joint_feats)\n",
    "            else:\n",
    "                # img_idxs, pc_idxs, joint_idxs = get_topk(prompts, K, noanno_img_feats, noanno_lidar_feats, noanno_joint_feats)\n",
    "                raise NotImplementedError\n",
    "            num_positives = masks[name].sum().item()\n",
    "            best_case = min(num_positives, K)\n",
    "            image_score = masks[name][img_idxs].sum().numpy()/best_case\n",
    "            lidar_score = masks[name][pc_idxs].sum().numpy()/best_case\n",
    "            joint_score = masks[name][joint_idxs].sum().numpy()/best_case\n",
    "            # random_score = masks[name][random_idxs].sum().numpy()/best_case\n",
    "            if PRINT_ELEMENTS:\n",
    "                print(f\"    P@{K} for {name}: ({num_positives} matches)\")\n",
    "                print(\"        image: \", image_score)\n",
    "                print(\"        lidar: \", lidar_score)\n",
    "                print(\"        joint: \", joint_score)\n",
    "                # print(\"    random:\", random_score)\n",
    "            image_subcat += image_score/len(subcategory)\n",
    "            lidar_subcat += lidar_score/len(subcategory)\n",
    "            joint_subcat += joint_score/len(subcategory)\n",
    "            image_overall += image_score/total_num\n",
    "            lidar_overall += lidar_score/total_num\n",
    "            joint_overall += joint_score/total_num\n",
    "        if PRINT_SUBCATEGORIES:\n",
    "            print(f\"Average P@{K} for {subcategory}:\")\n",
    "            print(\"    image: \", image_subcat)\n",
    "            print(\"    lidar: \", lidar_subcat)\n",
    "            print(\"    joint: \", joint_subcat)\n",
    "            print(\"=========================================\")\n",
    "    print(f\"P@{K} overall:\")\n",
    "    print(\"    image: \", image_overall)\n",
    "    print(\"    lidar: \", lidar_overall)\n",
    "    print(\"    joint: \", joint_overall)\n",
    "    print(\"=========================================\")\n",
    "    print(\"=========================================\")"
   ]
  },
  {
   "cell_type": "code",
   "execution_count": null,
   "metadata": {
    "scrolled": true
   },
   "outputs": [],
   "source": [
    "# Compute the expected precision for random sampling\n",
    "overall_random = 0\n",
    "num_cats = 0\n",
    "for subcategory, prompt_template, needs_annos in subcategories:\n",
    "    for name in subcategory:\n",
    "        num_positives = masks[name].sum().item()\n",
    "        if needs_annos:\n",
    "            total_num = len(anno_lidar_feats)\n",
    "        else:\n",
    "            raise NotImplementedError  # len(noanno_lidar_feats)\n",
    "        randscore = num_positives/total_num\n",
    "        print(f\"random score for {name}: {randscore:.2f}\")\n",
    "        overall_random += randscore\n",
    "        num_cats += 1\n",
    "print(f\"overall random score: {overall_random / num_cats :.2f}\")"
   ]
  },
  {
   "cell_type": "code",
   "execution_count": null,
   "metadata": {},
   "outputs": [],
   "source": []
  }
 ],
 "metadata": {
  "kernelspec": {
   "display_name": "Python 3 (ipykernel)",
   "language": "python",
   "name": "python3"
  },
  "language_info": {
   "codemirror_mode": {
    "name": "ipython",
    "version": 3
   },
   "file_extension": ".py",
   "mimetype": "text/x-python",
   "name": "python",
   "nbconvert_exporter": "python",
   "pygments_lexer": "ipython3",
   "version": "3.9.13"
  },
  "vscode": {
   "interpreter": {
    "hash": "8474fbf7fa6f299d9ca87dcd7358dfc28aa95d8ec78802489d98a6cd3ecc0cc3"
   }
  }
 },
 "nbformat": 4,
 "nbformat_minor": 2
}
