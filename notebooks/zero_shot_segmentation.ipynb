{
 "cells": [
  {
   "cell_type": "code",
   "execution_count": null,
   "metadata": {},
   "outputs": [],
   "source": [
    "import torch\n",
    "\n",
    "device = \"cuda\" if torch.cuda.is_available() else \"cpu\"\n",
    "print(device)"
   ]
  },
  {
   "cell_type": "code",
   "execution_count": null,
   "metadata": {},
   "outputs": [],
   "source": [
    "from lidarclip.model.sst import build_sst\n",
    "from mmcv.runner import load_checkpoint\n",
    "from lidarclip.model.sst import LidarEncoderSST\n",
    "import clip\n",
    "import os\n",
    "from train import LidarClippin\n",
    "\n",
    "clip_model, clip_preprocess = clip.load(\"ViT-B/32\")\n",
    "lidar_encoder = LidarEncoderSST(\"../lidarclip/model/sst_encoder_only_config.py\")\n",
    "model = LidarClippin(lidar_encoder, clip_model, 1, 1)\n",
    "checkpoint_name = \"35vsmuyp/epoch=97-step=32842.ckpt\"\n",
    "load_checkpoint(model, os.path.join(\"/proj/nlp4adas/checkpoints/\", checkpoint_name), map_location=\"cpu\")\n",
    "model.to(device)\n",
    "pass"
   ]
  },
  {
   "cell_type": "code",
   "execution_count": null,
   "metadata": {},
   "outputs": [],
   "source": [
    "from lidarclip.loader import build_loader, OnceImageLidarDataset\n",
    "\n",
    "loader = build_loader(\"/proj/nlp4adas/datasets/once\", clip_preprocess, batch_size=16, num_workers=2, split='val')"
   ]
  },
  {
   "cell_type": "code",
   "execution_count": null,
   "metadata": {},
   "outputs": [],
   "source": [
    "images, lidars = next(iter(loader))\n",
    "\n",
    "lidars = [lid .to(device) for lid in lidars]\n",
    "images = [img.to(device) for img in images]"
   ]
  },
  {
   "cell_type": "code",
   "execution_count": null,
   "metadata": {},
   "outputs": [],
   "source": [
    "from einops import rearrange\n",
    "from matplotlib import pyplot as plt\n",
    "means = torch.tensor([0.48145466, 0.4578275, 0.40821073], device=\"cpu\")\n",
    "stds = torch.tensor([0.26862954, 0.26130258, 0.27577711], device=\"cpu\")\n",
    "\n",
    "fig, axs = plt.subplots(4,4, figsize=(15, 15))\n",
    "for i in range(4):\n",
    "    for j in range(4):\n",
    "        idx = i*4 + j\n",
    "        \n",
    "        axs[i,j].imshow(rearrange(images[idx], \"c h w -> h w c\").cpu()*stds+means)\n",
    "        axs[i,j].set_title(idx)"
   ]
  },
  {
   "cell_type": "code",
   "execution_count": null,
   "metadata": {},
   "outputs": [],
   "source": [
    "import numpy as np\n",
    "fig, axs = plt.subplots(4,4, figsize=(30, 15))\n",
    "for i in range(4):\n",
    "    for j in range(4):\n",
    "        idx = i*4 + j\n",
    "        pc = lidars[idx].cpu()\n",
    "        axs[i,j].scatter(-pc[:,1], pc[:,0], s=0.1, c=np.clip(pc[:, 3], 0, 1), cmap=\"coolwarm\")\n",
    "        axs[i,j].axis(\"equal\")\n",
    "        axs[i,j].set_xlim(-40, 40)\n",
    "        axs[i,j].set_ylim(0, 60)\n",
    "        axs[i,j].set_title(idx)\n",
    "\n",
    "plt.show()"
   ]
  },
  {
   "cell_type": "code",
   "execution_count": null,
   "metadata": {},
   "outputs": [],
   "source": [
    "feature, attention = model.lidar_encoder(lidars, return_attention=True)\n",
    "attention_bev = attention.reshape(16, 80, 80).detach().cpu().numpy()\n",
    "torch.save(feature, \"lidar_out.pt\")"
   ]
  },
  {
   "cell_type": "code",
   "execution_count": null,
   "metadata": {},
   "outputs": [],
   "source": [
    "def plot_weighted_cloud(pc, weight, img, plot_weight_grid=False, use_colorbar=False, cmap=\"coolwarm\", half_cloud=False, title=None):\n",
    "    if half_cloud:\n",
    "        pc = pc[pc[:,0] < 20]\n",
    "        pc = pc[pc[:,1] < 10]\n",
    "        pc = pc[pc[:,1] > -10]\n",
    "        x_idx = (pc[:,0] / 0.5).astype(np.int32)\n",
    "        y_idx = ((pc[:,1] + 10) / 0.5).astype(np.int32)\n",
    "    else:\n",
    "        pc = pc[pc[:,0] < 40]\n",
    "        pc = pc[pc[:,1] < 20]\n",
    "        pc = pc[pc[:,1] > -20]\n",
    "        x_idx = (pc[:,0] / 0.5).astype(np.int32)\n",
    "        y_idx = ((pc[:,1] + 20) / 0.5).astype(np.int32)\n",
    "\n",
    "    plt.figure(dpi=200)\n",
    "    col = weight[y_idx, x_idx]\n",
    "    plt.scatter(-pc[:,1], pc[:,0], s=0.1, c=col**0.3, cmap=cmap)\n",
    "    plt.axis(\"scaled\")\n",
    "    if half_cloud:\n",
    "        plt.ylim(0, 20)\n",
    "        plt.xlim(-10, 10)\n",
    "    else:\n",
    "        plt.ylim(0, 40)\n",
    "        plt.xlim(-13, 13)\n",
    "    if use_colorbar:\n",
    "        plt.colorbar()\n",
    "    if title:\n",
    "        plt.title(title)\n",
    "    plt.show()\n",
    "    if plot_weight_grid:\n",
    "        plt.matshow(weight.T**0.5)\n",
    "        plt.show()\n",
    "    plt.figure(dpi=200)\n",
    "    plt.axis('off')\n",
    "    plt.imshow(rearrange(img, \"c h w -> h w c\").cpu()*stds+means)\n",
    "    plt.show()"
   ]
  },
  {
   "cell_type": "code",
   "execution_count": null,
   "metadata": {},
   "outputs": [],
   "source": [
    "idx = 15\n",
    "pc = lidars[idx].cpu().numpy()\n",
    "weight = attention_bev[idx]\n",
    "plot_weighted_cloud(pc, weight, images[idx], plot_weight_grid=True)"
   ]
  },
  {
   "cell_type": "code",
   "execution_count": null,
   "metadata": {},
   "outputs": [],
   "source": [
    "bev_features, mask = model.lidar_encoder(lidars, no_pooling=True)\n",
    "bev_features = rearrange(bev_features, '(h w) n c -> n h w c', h=80, w=80)\n",
    "# bev_features = bev_features[:, :40, 20:60]\n",
    "bev_features = rearrange(bev_features, 'n h w c -> n (h w) c')\n",
    "mask = rearrange(mask, 'n (h w) -> n h w', h=80, w=80)\n",
    "# mask = mask[:, :40, 20:60]\n",
    "mask = rearrange(mask, 'n h w -> n (h w)')\n",
    "\n",
    "mask.shape"
   ]
  },
  {
   "cell_type": "code",
   "execution_count": null,
   "metadata": {},
   "outputs": [],
   "source": [
    "# Encode some text\n",
    "words = [\"car\", \"bus\", \"truck\", \"person\", \"bike or moped\", \"tree or bush\", \"road\", \"traffic light\"]\n",
    "words = [\"a picture of a \" + word for word in words]\n",
    "text = clip.tokenize(words).to(device)\n",
    "# text = clip.tokenize([\"a picture of a car on the road\", \"a picture of an empty road bush\", \"a picture of a tree\"]).to(device)\n",
    "\n",
    "with torch.no_grad():\n",
    "    text_features = clip_model.encode_text(text)\n",
    "text_features.shape"
   ]
  },
  {
   "cell_type": "code",
   "execution_count": null,
   "metadata": {},
   "outputs": [],
   "source": [
    "txt_feat = text_features / text_features.norm(dim=-1, keepdim=True)\n",
    "bev_feat = bev_features / bev_features.norm(dim=-1, keepdim=True)"
   ]
  },
  {
   "cell_type": "code",
   "execution_count": null,
   "metadata": {},
   "outputs": [],
   "source": [
    "# cosine similarity as logits\n",
    "logit_scale = model.clip.logit_scale.exp().float()\n",
    "logits_per_bev = logit_scale * bev_feat.float() @ txt_feat.t().float()\n",
    "# logits_per_text = logits_per_image.t()\n",
    "logits_per_bev.shape"
   ]
  },
  {
   "cell_type": "code",
   "execution_count": null,
   "metadata": {},
   "outputs": [],
   "source": [
    "logits_per_bev -= mask[..., None]*99999999"
   ]
  },
  {
   "cell_type": "code",
   "execution_count": null,
   "metadata": {},
   "outputs": [],
   "source": [
    "idx = -3\n",
    "text_idx = 4"
   ]
  },
  {
   "cell_type": "code",
   "execution_count": null,
   "metadata": {},
   "outputs": [],
   "source": [
    "print(words[text_idx])\n",
    "bev_softmaxed = torch.softmax(logits_per_bev, dim=-1)\n",
    "bev_softmaxed = rearrange(bev_softmaxed, 'n (h w) c -> n h w c', h=80, w=80).detach().cpu().numpy()\n",
    "weight = bev_softmaxed[idx,...,text_idx]\n",
    "# print(weight.max())\n",
    "\n",
    "pc = lidars[idx].cpu().numpy()\n",
    "plot_weighted_cloud(pc, weight, images[idx], plot_weight_grid=False, use_colorbar=True, title=words[text_idx])\n"
   ]
  },
  {
   "cell_type": "code",
   "execution_count": null,
   "metadata": {},
   "outputs": [],
   "source": [
    "print(words)\n",
    "bev_softmaxed = torch.softmax(logits_per_bev, dim=-1)\n",
    "bev_softmaxed = rearrange(bev_softmaxed, 'n (h w) c -> n h w c', h=80, w=80).detach().cpu().numpy()\n",
    "weight = np.argmax(bev_softmaxed[idx], axis=-1)\n",
    "pc = lidars[idx].cpu().numpy()\n",
    "plot_weighted_cloud(pc, weight, images[idx], plot_weight_grid=False, cmap=\"Set1\")\n"
   ]
  },
  {
   "cell_type": "code",
   "execution_count": null,
   "metadata": {},
   "outputs": [],
   "source": [
    "bev_softmaxed = torch.softmax(logits_per_bev, dim=1)\n",
    "bev_softmaxed = rearrange(bev_softmaxed, 'n (h w) c -> n h w c', h=80, w=80).detach().cpu().numpy()\n",
    "weight = bev_softmaxed[idx,...,text_idx]\n",
    "\n",
    "pc = lidars[idx].cpu().numpy()\n",
    "plot_weighted_cloud(pc, weight**0.5, images[idx], plot_weight_grid=False)\n",
    "\n"
   ]
  },
  {
   "cell_type": "code",
   "execution_count": null,
   "metadata": {},
   "outputs": [],
   "source": []
  },
  {
   "cell_type": "code",
   "execution_count": null,
   "metadata": {},
   "outputs": [],
   "source": []
  },
  {
   "cell_type": "code",
   "execution_count": null,
   "metadata": {},
   "outputs": [],
   "source": []
  }
 ],
 "metadata": {
  "kernelspec": {
   "display_name": "Python 3",
   "language": "python",
   "name": "python3"
  },
  "language_info": {
   "codemirror_mode": {
    "name": "ipython",
    "version": 3
   },
   "file_extension": ".py",
   "mimetype": "text/x-python",
   "name": "python",
   "nbconvert_exporter": "python",
   "pygments_lexer": "ipython3",
   "version": "3.8.10"
  },
  "vscode": {
   "interpreter": {
    "hash": "14a4ba28da6003744c22a3a46bb15a1aa763f7587f58d35f583420b6e892bffb"
   }
  }
 },
 "nbformat": 4,
 "nbformat_minor": 2
}
