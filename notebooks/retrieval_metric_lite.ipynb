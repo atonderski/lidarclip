{
 "cells": [
  {
   "cell_type": "code",
   "execution_count": null,
   "metadata": {},
   "outputs": [],
   "source": [
    "import torch\n",
    "import sys\n",
    "from tqdm import tqdm\n",
    "sys.path.append('..')\n",
    "device = \"cuda\" if torch.cuda.is_available() else \"cpu\"\n",
    "print(device)"
   ]
  },
  {
   "cell_type": "code",
   "execution_count": null,
   "metadata": {},
   "outputs": [],
   "source": [
    "import clip\n",
    "from lidar_clippin.anno_loader import build_loader, CLASSES, PERIODS, WEATHERS\n",
    "batch_size = 1\n",
    "clip_model, clip_preprocess = clip.load(\"ViT-B/32\")\n",
    "dataset_root = \"/proj/nlp4adas/datasets/once\"\n",
    "dataset_root = \"/Users/s0000960/data/once/\"\n",
    "loader = build_loader(dataset_root, clip_preprocess, batch_size=batch_size, num_workers=8, split=\"val\", skip_data=True)"
   ]
  },
  {
   "cell_type": "code",
   "execution_count": null,
   "metadata": {},
   "outputs": [],
   "source": [
    "img_feats = torch.load(\"img_feats_val.pt\").to(device)\n",
    "lidar_feats = torch.load(\"lidar_feats_val.pt\").to(device)"
   ]
  },
  {
   "cell_type": "code",
   "execution_count": null,
   "metadata": {},
   "outputs": [],
   "source": [
    "def logit_img_txt(img_feat, txt_feat, model):\n",
    "    img_feat = img_feat / img_feat.norm(dim=1, keepdim=True)\n",
    "    txt_feat = txt_feat / txt_feat.norm(dim=1, keepdim=True)\n",
    "\n",
    "    # cosine similarity as logits\n",
    "    logit_scale = model.logit_scale.exp().float()\n",
    "    logits_per_image = logit_scale * img_feat.float() @ txt_feat.t().float()\n",
    "    logits_per_text = logits_per_image.t()\n",
    "    return logits_per_text, logits_per_image"
   ]
  },
  {
   "cell_type": "code",
   "execution_count": null,
   "metadata": {},
   "outputs": [],
   "source": [
    "# Encode some text\n",
    "text = clip.tokenize([\"a photo of an animal on the road\"]).to(device)\n",
    "with torch.no_grad():\n",
    "    text_features = clip_model.encode_text(text)\n",
    "logits_per_text_l, logits_per_pc = logit_img_txt(lidar_feats, text_features, clip_model)\n",
    "logits_per_text_i, logits_per_img = logit_img_txt(img_feats, text_features, clip_model)\n",
    "pc_logits, pc_idxs = torch.topk(logits_per_text_l[0,:], 16)\n",
    "img_logits, img_idxs = torch.topk(logits_per_text_i[0,:], 16)"
   ]
  },
  {
   "cell_type": "code",
   "execution_count": null,
   "metadata": {},
   "outputs": [],
   "source": [
    "# Automatically generate a number of prompts\n",
    "import itertools\n",
    "objects = [\"car\", \"person walking on the road\", \"semi-truck\", \"bus\", \"parked bicycle\", \"person riding a bike\", \"forest\"]\n",
    "environments = [\"on a rainy day\", \"to the left of the image\", \"on an empty road\", \"at night\", \"in winter\"]\n",
    "prompts = [f\"a photo of a {obj[0]} {obj[1]}\" for obj in itertools.product(objects, environments)]\n"
   ]
  },
  {
   "cell_type": "code",
   "execution_count": null,
   "metadata": {},
   "outputs": [],
   "source": [
    "text = clip.tokenize(prompts).to(device)\n",
    "with torch.no_grad():\n",
    "    text_features = clip_model.encode_text(text)\n",
    "logits_per_text_l, logits_per_pc = logit_img_txt(lidar_feats, text_features, clip_model)\n",
    "logits_per_text_i, logits_per_img = logit_img_txt(img_feats, text_features, clip_model)"
   ]
  },
  {
   "cell_type": "code",
   "execution_count": null,
   "metadata": {},
   "outputs": [],
   "source": [
    "cls_mask = {cls_name: torch.zeros(len(loader), dtype=torch.int32) for cls_name in CLASSES}\n",
    "weather_mask = {weather_name: torch.zeros(len(loader), dtype=torch.bool) for weather_name in WEATHERS}\n",
    "period_mask = {period_name: torch.zeros(len(loader), dtype=torch.bool) for period_name in PERIODS}\n"
   ]
  },
  {
   "cell_type": "code",
   "execution_count": null,
   "metadata": {},
   "outputs": [],
   "source": [
    "for i, (_, _, anno, meta) in tqdm(enumerate(loader)):\n",
    "    weather_mask[meta[0][\"weather\"]][i] = 1\n",
    "    period_mask[meta[0][\"period\"]][i] = 1\n",
    "    for name, box2d, box3d in zip(anno[0]['names'], anno[0]['boxes_2d'], anno[0]['boxes_3d']):\n",
    "        dist = torch.tensor(box3d[:3]).norm()\n",
    "        if dist < 45:\n",
    "            cls_mask[name][i] = 1\n",
    "        elif cls_mask[name][i] == 0:\n",
    "            cls_mask[name][i] = -1"
   ]
  },
  {
   "cell_type": "code",
   "execution_count": null,
   "metadata": {},
   "outputs": [],
   "source": []
  },
  {
   "cell_type": "code",
   "execution_count": null,
   "metadata": {},
   "outputs": [],
   "source": []
  }
 ],
 "metadata": {
  "kernelspec": {
   "display_name": "Python 3.9.13 ('lidarclip')",
   "language": "python",
   "name": "python3"
  },
  "language_info": {
   "codemirror_mode": {
    "name": "ipython",
    "version": 3
   },
   "file_extension": ".py",
   "mimetype": "text/x-python",
   "name": "python",
   "nbconvert_exporter": "python",
   "pygments_lexer": "ipython3",
   "version": "3.9.13"
  },
  "vscode": {
   "interpreter": {
    "hash": "8474fbf7fa6f299d9ca87dcd7358dfc28aa95d8ec78802489d98a6cd3ecc0cc3"
   }
  }
 },
 "nbformat": 4,
 "nbformat_minor": 2
}
