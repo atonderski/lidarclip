{
 "cells": [
  {
   "cell_type": "code",
   "execution_count": null,
   "metadata": {},
   "outputs": [],
   "source": [
    "import torch\n",
    "\n",
    "device = \"cuda\" if torch.cuda.is_available() else \"cpu\"\n",
    "print(device)"
   ]
  },
  {
   "cell_type": "code",
   "execution_count": null,
   "metadata": {},
   "outputs": [],
   "source": [
    "from lidar_clippin.model.sst import build_sst\n",
    "from mmcv.runner import load_checkpoint\n",
    "from lidar_clippin.model.sst import LidarEncoderSST\n",
    "import pytorch_lightning as pl\n",
    "import clip\n",
    "import os\n",
    "\n",
    "\n",
    "class LidarClippin(pl.LightningModule):\n",
    "    def __init__(self, lidar_encoder: LidarEncoderSST, clip_model, batch_size: int):\n",
    "        super().__init__()\n",
    "        self.lidar_encoder = lidar_encoder\n",
    "        self.clip = clip_model\n",
    "        self.batch_size = batch_size\n",
    "        for param in self.clip.parameters():\n",
    "            param.requires_grad = False\n",
    "\n",
    "    def training_step(self, batch, batch_idx):\n",
    "        image, point_cloud = batch\n",
    "        with torch.no_grad():\n",
    "            image_features = self.clip.encode_image(image)\n",
    "        lidar_features = self.lidar_encoder(point_cloud)\n",
    "        loss = F.mse_loss((image_features), (lidar_features))\n",
    "        self.log(\"train_loss\", loss)\n",
    "        return loss\n",
    "\n",
    "    def configure_optimizers(self):\n",
    "        optimizer = torch.optim.Adam(self.lidar_encoder.parameters(), lr=1e-5)\n",
    "        steps_per_epoch = (3618846//self.batch_size)//self.trainer.accumulate_grad_batches\n",
    "        scheduler = torch.optim.lr_scheduler.OneCycleLR(\n",
    "            optimizer,\n",
    "            max_lr=1e-3,\n",
    "            #total_steps=self.trainer.estimated_stepping_batches,\n",
    "            pct_start=0.1,\n",
    "            steps_per_epoch=steps_per_epoch,\n",
    "            epochs=self.trainer.max_epochs,\n",
    "        )\n",
    "        scheduler = {\"scheduler\": scheduler, \"interval\" : \"step\"}\n",
    "        return [optimizer], [scheduler]\n",
    "\n",
    "\n",
    "clip_model, clip_preprocess = clip.load(\"ViT-B/32\")\n",
    "lidar_encoder = LidarEncoderSST(\"model/sst_encoder_only_config.py\")\n",
    "model = LidarClippin(lidar_encoder, clip_model, 1)\n",
    "load_checkpoint(model, \"/proj/nlp4adas/checkpoints/35vsmuyp/epoch=97-step=32842.ckpt\", map_location=\"cpu\")\n",
    "model.to(device)"
   ]
  },
  {
   "cell_type": "code",
   "execution_count": null,
   "metadata": {},
   "outputs": [],
   "source": [
    "from lidar_clippin.loader import build_loader\n",
    "batch_size = 32\n",
    "loader = build_loader(\"/proj/nlp4adas/datasets/once\", clip_preprocess, batch_size=batch_size, num_workers=1, split=\"val\")"
   ]
  },
  {
   "cell_type": "code",
   "execution_count": null,
   "metadata": {},
   "outputs": [],
   "source": [
    "img_feats = []\n",
    "lidar_feats = []\n",
    "with torch.no_grad():\n",
    "    for i, batch in enumerate(loader):\n",
    "        if i % 50 == 0 and i > 0:\n",
    "            print(f\"iter: {(i+1)*batch_size}\")\n",
    "            torch.save(torch.cat(img_feats, dim=0), f\"img_feats_val_{(i+1)*batch_size}.pt\")\n",
    "            torch.save(torch.cat(lidar_feats, dim=0), f\"lidar_feats_val_{(i+1)*batch_size}.pt\")\n",
    "        images, point_clouds = batch\n",
    "        point_clouds = [pc.to(device) for pc in point_clouds]\n",
    "        images = [img.to(device) for img in images]\n",
    "        images = torch.cat([i.unsqueeze(0) for i in images])\n",
    "        image_features = model.clip.encode_image(images)\n",
    "        lidar_features, _ = model.lidar_encoder(point_clouds)\n",
    "        img_feats.append(image_features.detach().cpu())\n",
    "        lidar_feats.append(lidar_features.detach().cpu())\n",
    "\n",
    "print(\"done\")"
   ]
  },
  {
   "cell_type": "code",
   "execution_count": null,
   "metadata": {},
   "outputs": [],
   "source": [
    "img_feats = torch.cat(img_feats, dim=0)\n",
    "lidar_feats = torch.cat(lidar_feats, dim=0)\n",
    "\n",
    "torch.save(img_feats, \"img_feats_val.pt\")\n",
    "torch.save(lidar_feats, \"lidar_feats_val.pt\")"
   ]
  },
  {
   "cell_type": "code",
   "execution_count": null,
   "metadata": {},
   "outputs": [],
   "source": [
    "img_feats = torch.load(\"img_feats_val_46535.pt\").to(device)\n",
    "lidar_feats = torch.load(\"lidar_feats_val_46535.pt\").to(device)"
   ]
  },
  {
   "cell_type": "code",
   "execution_count": null,
   "metadata": {},
   "outputs": [],
   "source": [
    "def logit_img_txt(img_feat, txt_feat, model, weigths=None):\n",
    "    img_feat = img_feat / img_feat.norm(dim=1, keepdim=True)\n",
    "    txt_feat = txt_feat / txt_feat.norm(dim=1, keepdim=True)\n",
    "\n",
    "    # cosine similarity as logits\n",
    "    logit_scale = model.logit_scale.exp().float()\n",
    "    logits_per_image = logit_scale * img_feat.float() @ txt_feat.t().float()\n",
    "    if weights is not None:\n",
    "        logits_per_image = logits_per_image @ weights.unsqueeze(1)\n",
    "    logits_per_text = logits_per_image.t()\n",
    "    return logits_per_text, logits_per_image"
   ]
  },
  {
   "cell_type": "code",
   "execution_count": null,
   "metadata": {},
   "outputs": [],
   "source": [
    "# Encode some text\n",
    "text = clip.tokenize([\"a car\", \"a bus\", \"a truck\", \"a person\", \"a construction vehicle\", \"a tree\", \"a bush\"]).to(device)\n",
    "#text = clip.tokenize([\"a rural road\", \"a urban road\", \"a highway\", \"an overhead bridge\", \"a cross-walk\"]).to(device)\n",
    "#text = clip.tokenize([\"an image at night\", \"an image during the day\"]).to(device)\n",
    "#text = clip.tokenize([\"a road with cars\", \"an empty road\"]).to(device)\n",
    "#text = clip.tokenize([\"a tiny car\", \"a small car\", \"a normal-size car\", \"a big car\", \"a huge car\"]).to(device)\n",
    "#text = clip.tokenize([\"a white car\", \"a black car\", \"a red car\", \"a green car\", \"a blue car\", \"a yellow car\"]).to(device)\n",
    "#text = clip.tokenize([\"a cross-walk\", \"an empty road\", \"a crossing\"]).to(device)\n",
    "#text = clip.tokenize([\"a wet road\", \"a dry road\"]).to(device)\n",
    "#text = clip.tokenize([\"the front of a car\", \"the back of a car\", \"the side of a car\"]).to(device)\n",
    "class_names = [\"a photo of a three-wheeler\", \"photo of a car\", \"photo of a bus\", \"photo of a semi-truck\", \"photo of a person walking\", \"photo of a bike or moped\", \"photo of trees or bushes\", \"photo of an empty road\"]\n",
    "text = clip.tokenize(class_names).to(device)\n",
    "#text = clip.tokenize([\"a vehicle with umbrellas\"]).to(device)\n",
    "\n",
    "with torch.no_grad():\n",
    "    text_features = clip_model.encode_text(text)\n",
    "\n",
    "weights = torch.tensor([1,0], device=device).float()\n",
    "weights = None"
   ]
  },
  {
   "cell_type": "code",
   "execution_count": null,
   "metadata": {},
   "outputs": [],
   "source": [
    "logits_per_text_l, logits_per_pc = logit_img_txt(lidar_feats, text_features, clip_model, weights)\n",
    "logits_per_text_i, logits_per_img = logit_img_txt(img_feats, text_features, clip_model, weights)\n"
   ]
  },
  {
   "cell_type": "code",
   "execution_count": null,
   "metadata": {},
   "outputs": [],
   "source": [
    "pc_logits, pc_idxs = torch.topk(logits_per_text_l[-1,:], 16)\n",
    "img_logits, img_idxs = torch.topk(logits_per_text_i[-1,:], 16)\n",
    "\n",
    "logits = pc_logits\n",
    "idxs = pc_idxs"
   ]
  },
  {
   "cell_type": "code",
   "execution_count": null,
   "metadata": {},
   "outputs": [],
   "source": [
    "from einops import rearrange\n",
    "from matplotlib import pyplot as plt\n",
    "import numpy as np\n",
    "means = torch.tensor([0.48145466, 0.4578275, 0.40821073], device=\"cpu\")\n",
    "stds = torch.tensor([0.26862954, 0.26130258, 0.27577711], device=\"cpu\")\n",
    "\n",
    "dataset = loader.dataset\n",
    "\n",
    "fig, axs = plt.subplots(4,4, figsize=(30, 15))\n",
    "\n",
    "for i in range(4):\n",
    "    for j in range(4):\n",
    "        idx = i*4 + j//2\n",
    "        logit = logits[idx]\n",
    "        d_idx = idxs[idx]\n",
    "        \n",
    "        img, pc = dataset[d_idx]\n",
    "        pc = pc.cpu()\n",
    "        \n",
    "        if j%2 == 0:\n",
    "            axs[i,j].imshow(rearrange(img, \"c h w -> h w c\").cpu()*stds+means)\n",
    "            axs[i,j].set_title(logit.item())\n",
    "            axs[i,j].axis('off')\n",
    "        else:\n",
    "            axs[i,j].scatter(-pc[:,1], pc[:,0], s=0.1, c=np.clip(pc[:, 3], 0, 1), cmap=\"coolwarm\")\n",
    "            axs[i,j].set_xlim(-40, 40)\n",
    "            axs[i,j].set_ylim(0, 40)\n",
    "            axs[i,j].set_title(d_idx.item())\n",
    "        "
   ]
  },
  {
   "cell_type": "code",
   "execution_count": null,
   "metadata": {},
   "outputs": [],
   "source": [
    "d_idx = 5717\n",
    "\n",
    "dataset = loader.dataset\n",
    "\n",
    "img, pc = dataset[d_idx]\n",
    "plt.imshow(rearrange(img, \"c h w -> h w c\").cpu()*stds+means)\n",
    "plt.axis('off')\n",
    "plt.show()\n",
    "\n",
    "plt.scatter(-pc[:,1], pc[:,0], s=0.1, c=np.clip(pc[:, 3], 0, 1), cmap=\"coolwarm\")\n",
    "plt.gca().set_xlim(-20, 20)\n",
    "plt.gca().set_ylim(0, 40)\n",
    "plt.gca().set_aspect('equal', adjustable='box')\n",
    "plt.show()\n",
    "\n",
    "logits = logits_per_text_l[:,d_idx].softmax(dim=0)\n",
    "\n",
    "#plt.xticks(rotation='vertical')\n",
    "plt.yticks(fontsize=16)\n",
    "plt.xticks(fontsize=16)\n",
    "x = [name.replace(\"photo of\", \"\").lstrip(\" an\") for name in class_names]\n",
    "plt.barh(x,logits.cpu().numpy())\n",
    "print(class_names)\n",
    "print(logits)"
   ]
  },
  {
   "cell_type": "code",
   "execution_count": null,
   "metadata": {},
   "outputs": [],
   "source": [
    "import numpy as np\n",
    "fig, axs = plt.subplots(4,4, figsize=(30, 15))\n",
    "for i in range(4):\n",
    "    for j in range(4):\n",
    "        idx = i*4 + j\n",
    "        logit = logits[idx]\n",
    "        d_idx = idxs[idx]\n",
    "        _, pc = dataset[d_idx]\n",
    "        \n",
    "        pc = pc.cpu()\n",
    "        axs[i,j].scatter(-pc[:,1], pc[:,0], s=0.1, c=np.clip(pc[:, 3], 0, 1), cmap=\"coolwarm\")\n",
    "        axs[i,j].axis(\"equal\")\n",
    "        axs[i,j].set_xlim(-40, 40)\n",
    "        axs[i,j].set_ylim(0, 40)\n",
    "        axs[i,j].set_title(idx)\n",
    "\n",
    "plt.show()"
   ]
  },
  {
   "cell_type": "code",
   "execution_count": null,
   "metadata": {},
   "outputs": [],
   "source": [
    "from einops import rearrange\n",
    "from matplotlib import pyplot as plt\n",
    "means = torch.tensor([0.48145466, 0.4578275, 0.40821073], device=\"cpu\")\n",
    "stds = torch.tensor([0.26862954, 0.26130258, 0.27577711], device=\"cpu\")\n",
    "\n",
    "dataset = loader.dataset\n",
    "\n",
    "fig, axs = plt.subplots(4,4, figsize=(15, 15))\n",
    "for i in range(4):\n",
    "    for j in range(4):\n",
    "        idx = i*4 + j\n",
    "        logit = logits[idx]\n",
    "        d_idx = idxs[idx]\n",
    "        \n",
    "        img, _ = dataset[d_idx]\n",
    "        \n",
    "        \n",
    "        axs[i,j].imshow(rearrange(img, \"c h w -> h w c\").cpu()*stds+means)\n",
    "        axs[i,j].set_title(logit.item())\n",
    "        axs[i,j].axis('off')\n",
    "        "
   ]
  }
 ],
 "metadata": {
  "kernelspec": {
   "display_name": "Python 3.9.10 ('lidar-clippin')",
   "language": "python",
   "name": "python3"
  },
  "language_info": {
   "codemirror_mode": {
    "name": "ipython",
    "version": 3
   },
   "file_extension": ".py",
   "mimetype": "text/x-python",
   "name": "python",
   "nbconvert_exporter": "python",
   "pygments_lexer": "ipython3",
   "version": "3.9.10"
  },
  "vscode": {
   "interpreter": {
    "hash": "6a35c780d314427ecb20b68546d8d1571c475cf84e7f6fe24f20f6ef1d440173"
   }
  }
 },
 "nbformat": 4,
 "nbformat_minor": 2
}
