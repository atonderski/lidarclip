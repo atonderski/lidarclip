{
 "cells": [
  {
   "cell_type": "code",
   "execution_count": 1,
   "metadata": {},
   "outputs": [
    {
     "name": "stdout",
     "output_type": "stream",
     "text": [
      "cuda\n"
     ]
    },
    {
     "ename": "KeyboardInterrupt",
     "evalue": "",
     "output_type": "error",
     "traceback": [
      "\u001b[0;31m---------------------------------------------------------------------------\u001b[0m",
      "\u001b[0;31mKeyboardInterrupt\u001b[0m                         Traceback (most recent call last)",
      "\u001b[1;32m/home/s0001396/Documents/phd/wasp/nlp/lidar-clippin/explore_clip_for_once.ipynb Cell 1'\u001b[0m in \u001b[0;36m<cell line: 14>\u001b[0;34m()\u001b[0m\n\u001b[1;32m     <a href='vscode-notebook-cell:/home/s0001396/Documents/phd/wasp/nlp/lidar-clippin/explore_clip_for_once.ipynb#ch0000000?line=16'>17</a>\u001b[0m \u001b[39mfor\u001b[39;00m img \u001b[39min\u001b[39;00m imgs:\n\u001b[1;32m     <a href='vscode-notebook-cell:/home/s0001396/Documents/phd/wasp/nlp/lidar-clippin/explore_clip_for_once.ipynb#ch0000000?line=17'>18</a>\u001b[0m     image_path \u001b[39m=\u001b[39m os\u001b[39m.\u001b[39mpath\u001b[39m.\u001b[39mjoin(seq_path, img)\n\u001b[0;32m---> <a href='vscode-notebook-cell:/home/s0001396/Documents/phd/wasp/nlp/lidar-clippin/explore_clip_for_once.ipynb#ch0000000?line=18'>19</a>\u001b[0m     image \u001b[39m=\u001b[39m preprocess(Image\u001b[39m.\u001b[39;49mopen(image_path))\u001b[39m.\u001b[39munsqueeze(\u001b[39m0\u001b[39m)\u001b[39m.\u001b[39mto(device)\n\u001b[1;32m     <a href='vscode-notebook-cell:/home/s0001396/Documents/phd/wasp/nlp/lidar-clippin/explore_clip_for_once.ipynb#ch0000000?line=19'>20</a>\u001b[0m     \u001b[39mwith\u001b[39;00m torch\u001b[39m.\u001b[39mno_grad():\n\u001b[1;32m     <a href='vscode-notebook-cell:/home/s0001396/Documents/phd/wasp/nlp/lidar-clippin/explore_clip_for_once.ipynb#ch0000000?line=20'>21</a>\u001b[0m         image_features \u001b[39m=\u001b[39m model\u001b[39m.\u001b[39mencode_image(image)\n",
      "File \u001b[0;32m~/miniconda3/lib/python3.9/site-packages/torchvision/transforms/transforms.py:95\u001b[0m, in \u001b[0;36mCompose.__call__\u001b[0;34m(self, img)\u001b[0m\n\u001b[1;32m     <a href='file:///home/s0001396/miniconda3/lib/python3.9/site-packages/torchvision/transforms/transforms.py?line=92'>93</a>\u001b[0m \u001b[39mdef\u001b[39;00m \u001b[39m__call__\u001b[39m(\u001b[39mself\u001b[39m, img):\n\u001b[1;32m     <a href='file:///home/s0001396/miniconda3/lib/python3.9/site-packages/torchvision/transforms/transforms.py?line=93'>94</a>\u001b[0m     \u001b[39mfor\u001b[39;00m t \u001b[39min\u001b[39;00m \u001b[39mself\u001b[39m\u001b[39m.\u001b[39mtransforms:\n\u001b[0;32m---> <a href='file:///home/s0001396/miniconda3/lib/python3.9/site-packages/torchvision/transforms/transforms.py?line=94'>95</a>\u001b[0m         img \u001b[39m=\u001b[39m t(img)\n\u001b[1;32m     <a href='file:///home/s0001396/miniconda3/lib/python3.9/site-packages/torchvision/transforms/transforms.py?line=95'>96</a>\u001b[0m     \u001b[39mreturn\u001b[39;00m img\n",
      "File \u001b[0;32m~/miniconda3/lib/python3.9/site-packages/torch/nn/modules/module.py:1110\u001b[0m, in \u001b[0;36mModule._call_impl\u001b[0;34m(self, *input, **kwargs)\u001b[0m\n\u001b[1;32m   <a href='file:///home/s0001396/miniconda3/lib/python3.9/site-packages/torch/nn/modules/module.py?line=1105'>1106</a>\u001b[0m \u001b[39m# If we don't have any hooks, we want to skip the rest of the logic in\u001b[39;00m\n\u001b[1;32m   <a href='file:///home/s0001396/miniconda3/lib/python3.9/site-packages/torch/nn/modules/module.py?line=1106'>1107</a>\u001b[0m \u001b[39m# this function, and just call forward.\u001b[39;00m\n\u001b[1;32m   <a href='file:///home/s0001396/miniconda3/lib/python3.9/site-packages/torch/nn/modules/module.py?line=1107'>1108</a>\u001b[0m \u001b[39mif\u001b[39;00m \u001b[39mnot\u001b[39;00m (\u001b[39mself\u001b[39m\u001b[39m.\u001b[39m_backward_hooks \u001b[39mor\u001b[39;00m \u001b[39mself\u001b[39m\u001b[39m.\u001b[39m_forward_hooks \u001b[39mor\u001b[39;00m \u001b[39mself\u001b[39m\u001b[39m.\u001b[39m_forward_pre_hooks \u001b[39mor\u001b[39;00m _global_backward_hooks\n\u001b[1;32m   <a href='file:///home/s0001396/miniconda3/lib/python3.9/site-packages/torch/nn/modules/module.py?line=1108'>1109</a>\u001b[0m         \u001b[39mor\u001b[39;00m _global_forward_hooks \u001b[39mor\u001b[39;00m _global_forward_pre_hooks):\n\u001b[0;32m-> <a href='file:///home/s0001396/miniconda3/lib/python3.9/site-packages/torch/nn/modules/module.py?line=1109'>1110</a>\u001b[0m     \u001b[39mreturn\u001b[39;00m forward_call(\u001b[39m*\u001b[39;49m\u001b[39minput\u001b[39;49m, \u001b[39m*\u001b[39;49m\u001b[39m*\u001b[39;49mkwargs)\n\u001b[1;32m   <a href='file:///home/s0001396/miniconda3/lib/python3.9/site-packages/torch/nn/modules/module.py?line=1110'>1111</a>\u001b[0m \u001b[39m# Do not call functions when jit is used\u001b[39;00m\n\u001b[1;32m   <a href='file:///home/s0001396/miniconda3/lib/python3.9/site-packages/torch/nn/modules/module.py?line=1111'>1112</a>\u001b[0m full_backward_hooks, non_full_backward_hooks \u001b[39m=\u001b[39m [], []\n",
      "File \u001b[0;32m~/miniconda3/lib/python3.9/site-packages/torchvision/transforms/transforms.py:349\u001b[0m, in \u001b[0;36mResize.forward\u001b[0;34m(self, img)\u001b[0m\n\u001b[1;32m    <a href='file:///home/s0001396/miniconda3/lib/python3.9/site-packages/torchvision/transforms/transforms.py?line=340'>341</a>\u001b[0m \u001b[39mdef\u001b[39;00m \u001b[39mforward\u001b[39m(\u001b[39mself\u001b[39m, img):\n\u001b[1;32m    <a href='file:///home/s0001396/miniconda3/lib/python3.9/site-packages/torchvision/transforms/transforms.py?line=341'>342</a>\u001b[0m     \u001b[39m\"\"\"\u001b[39;00m\n\u001b[1;32m    <a href='file:///home/s0001396/miniconda3/lib/python3.9/site-packages/torchvision/transforms/transforms.py?line=342'>343</a>\u001b[0m \u001b[39m    Args:\u001b[39;00m\n\u001b[1;32m    <a href='file:///home/s0001396/miniconda3/lib/python3.9/site-packages/torchvision/transforms/transforms.py?line=343'>344</a>\u001b[0m \u001b[39m        img (PIL Image or Tensor): Image to be scaled.\u001b[39;00m\n\u001b[0;32m   (...)\u001b[0m\n\u001b[1;32m    <a href='file:///home/s0001396/miniconda3/lib/python3.9/site-packages/torchvision/transforms/transforms.py?line=346'>347</a>\u001b[0m \u001b[39m        PIL Image or Tensor: Rescaled image.\u001b[39;00m\n\u001b[1;32m    <a href='file:///home/s0001396/miniconda3/lib/python3.9/site-packages/torchvision/transforms/transforms.py?line=347'>348</a>\u001b[0m \u001b[39m    \"\"\"\u001b[39;00m\n\u001b[0;32m--> <a href='file:///home/s0001396/miniconda3/lib/python3.9/site-packages/torchvision/transforms/transforms.py?line=348'>349</a>\u001b[0m     \u001b[39mreturn\u001b[39;00m F\u001b[39m.\u001b[39;49mresize(img, \u001b[39mself\u001b[39;49m\u001b[39m.\u001b[39;49msize, \u001b[39mself\u001b[39;49m\u001b[39m.\u001b[39;49minterpolation, \u001b[39mself\u001b[39;49m\u001b[39m.\u001b[39;49mmax_size, \u001b[39mself\u001b[39;49m\u001b[39m.\u001b[39;49mantialias)\n",
      "File \u001b[0;32m~/miniconda3/lib/python3.9/site-packages/torchvision/transforms/functional.py:436\u001b[0m, in \u001b[0;36mresize\u001b[0;34m(img, size, interpolation, max_size, antialias)\u001b[0m\n\u001b[1;32m    <a href='file:///home/s0001396/miniconda3/lib/python3.9/site-packages/torchvision/transforms/functional.py?line=433'>434</a>\u001b[0m         warnings\u001b[39m.\u001b[39mwarn(\u001b[39m\"\u001b[39m\u001b[39mAnti-alias option is always applied for PIL Image input. Argument antialias is ignored.\u001b[39m\u001b[39m\"\u001b[39m)\n\u001b[1;32m    <a href='file:///home/s0001396/miniconda3/lib/python3.9/site-packages/torchvision/transforms/functional.py?line=434'>435</a>\u001b[0m     pil_interpolation \u001b[39m=\u001b[39m pil_modes_mapping[interpolation]\n\u001b[0;32m--> <a href='file:///home/s0001396/miniconda3/lib/python3.9/site-packages/torchvision/transforms/functional.py?line=435'>436</a>\u001b[0m     \u001b[39mreturn\u001b[39;00m F_pil\u001b[39m.\u001b[39;49mresize(img, size\u001b[39m=\u001b[39;49msize, interpolation\u001b[39m=\u001b[39;49mpil_interpolation, max_size\u001b[39m=\u001b[39;49mmax_size)\n\u001b[1;32m    <a href='file:///home/s0001396/miniconda3/lib/python3.9/site-packages/torchvision/transforms/functional.py?line=437'>438</a>\u001b[0m \u001b[39mreturn\u001b[39;00m F_t\u001b[39m.\u001b[39mresize(img, size\u001b[39m=\u001b[39msize, interpolation\u001b[39m=\u001b[39minterpolation\u001b[39m.\u001b[39mvalue, max_size\u001b[39m=\u001b[39mmax_size, antialias\u001b[39m=\u001b[39mantialias)\n",
      "File \u001b[0;32m~/miniconda3/lib/python3.9/site-packages/torchvision/transforms/functional_pil.py:258\u001b[0m, in \u001b[0;36mresize\u001b[0;34m(img, size, interpolation, max_size)\u001b[0m\n\u001b[1;32m    <a href='file:///home/s0001396/miniconda3/lib/python3.9/site-packages/torchvision/transforms/functional_pil.py?line=254'>255</a>\u001b[0m             new_short, new_long \u001b[39m=\u001b[39m \u001b[39mint\u001b[39m(max_size \u001b[39m*\u001b[39m new_short \u001b[39m/\u001b[39m new_long), max_size\n\u001b[1;32m    <a href='file:///home/s0001396/miniconda3/lib/python3.9/site-packages/torchvision/transforms/functional_pil.py?line=256'>257</a>\u001b[0m     new_w, new_h \u001b[39m=\u001b[39m (new_short, new_long) \u001b[39mif\u001b[39;00m w \u001b[39m<\u001b[39m\u001b[39m=\u001b[39m h \u001b[39melse\u001b[39;00m (new_long, new_short)\n\u001b[0;32m--> <a href='file:///home/s0001396/miniconda3/lib/python3.9/site-packages/torchvision/transforms/functional_pil.py?line=257'>258</a>\u001b[0m     \u001b[39mreturn\u001b[39;00m img\u001b[39m.\u001b[39;49mresize((new_w, new_h), interpolation)\n\u001b[1;32m    <a href='file:///home/s0001396/miniconda3/lib/python3.9/site-packages/torchvision/transforms/functional_pil.py?line=258'>259</a>\u001b[0m \u001b[39melse\u001b[39;00m:\n\u001b[1;32m    <a href='file:///home/s0001396/miniconda3/lib/python3.9/site-packages/torchvision/transforms/functional_pil.py?line=259'>260</a>\u001b[0m     \u001b[39mif\u001b[39;00m max_size \u001b[39mis\u001b[39;00m \u001b[39mnot\u001b[39;00m \u001b[39mNone\u001b[39;00m:\n",
      "File \u001b[0;32m~/miniconda3/lib/python3.9/site-packages/PIL/Image.py:1980\u001b[0m, in \u001b[0;36mImage.resize\u001b[0;34m(self, size, resample, box, reducing_gap)\u001b[0m\n\u001b[1;32m   <a href='file:///home/s0001396/miniconda3/lib/python3.9/site-packages/PIL/Image.py?line=1971'>1972</a>\u001b[0m             \u001b[39mself\u001b[39m \u001b[39m=\u001b[39m Image\u001b[39m.\u001b[39mreduce(\u001b[39mself\u001b[39m, factor, box\u001b[39m=\u001b[39mreduce_box)\n\u001b[1;32m   <a href='file:///home/s0001396/miniconda3/lib/python3.9/site-packages/PIL/Image.py?line=1972'>1973</a>\u001b[0m         box \u001b[39m=\u001b[39m (\n\u001b[1;32m   <a href='file:///home/s0001396/miniconda3/lib/python3.9/site-packages/PIL/Image.py?line=1973'>1974</a>\u001b[0m             (box[\u001b[39m0\u001b[39m] \u001b[39m-\u001b[39m reduce_box[\u001b[39m0\u001b[39m]) \u001b[39m/\u001b[39m factor_x,\n\u001b[1;32m   <a href='file:///home/s0001396/miniconda3/lib/python3.9/site-packages/PIL/Image.py?line=1974'>1975</a>\u001b[0m             (box[\u001b[39m1\u001b[39m] \u001b[39m-\u001b[39m reduce_box[\u001b[39m1\u001b[39m]) \u001b[39m/\u001b[39m factor_y,\n\u001b[1;32m   <a href='file:///home/s0001396/miniconda3/lib/python3.9/site-packages/PIL/Image.py?line=1975'>1976</a>\u001b[0m             (box[\u001b[39m2\u001b[39m] \u001b[39m-\u001b[39m reduce_box[\u001b[39m0\u001b[39m]) \u001b[39m/\u001b[39m factor_x,\n\u001b[1;32m   <a href='file:///home/s0001396/miniconda3/lib/python3.9/site-packages/PIL/Image.py?line=1976'>1977</a>\u001b[0m             (box[\u001b[39m3\u001b[39m] \u001b[39m-\u001b[39m reduce_box[\u001b[39m1\u001b[39m]) \u001b[39m/\u001b[39m factor_y,\n\u001b[1;32m   <a href='file:///home/s0001396/miniconda3/lib/python3.9/site-packages/PIL/Image.py?line=1977'>1978</a>\u001b[0m         )\n\u001b[0;32m-> <a href='file:///home/s0001396/miniconda3/lib/python3.9/site-packages/PIL/Image.py?line=1979'>1980</a>\u001b[0m \u001b[39mreturn\u001b[39;00m \u001b[39mself\u001b[39m\u001b[39m.\u001b[39m_new(\u001b[39mself\u001b[39;49m\u001b[39m.\u001b[39;49mim\u001b[39m.\u001b[39;49mresize(size, resample, box))\n",
      "\u001b[0;31mKeyboardInterrupt\u001b[0m: "
     ]
    }
   ],
   "source": [
    "\n",
    "import os\n",
    "import torch\n",
    "import clip\n",
    "from PIL import Image\n",
    "\n",
    "\n",
    "device = \"cuda\" if torch.cuda.is_available() else \"cpu\"\n",
    "print(device)\n",
    "model, preprocess = clip.load(\"ViT-B/32\", device=device)\n",
    "\n",
    "data_path = \"/home/s0001396/Documents/phd/datasets/once/data/\"\n",
    "sequences = os.listdir(data_path)\n",
    "image_feat = dict()\n",
    "for seq in sequences:\n",
    "    seq_path = os.path.join(data_path, seq, \"cam01\")\n",
    "    imgs = os.listdir(seq_path)\n",
    "    for img in imgs:\n",
    "        image_path = os.path.join(seq_path, img)\n",
    "        image = preprocess(Image.open(image_path)).unsqueeze(0).to(device)\n",
    "        with torch.no_grad():\n",
    "            image_features = model.encode_image(image)\n",
    "            image_feat[img] = image_features\n",
    "\n"
   ]
  },
  {
   "cell_type": "code",
   "execution_count": 4,
   "metadata": {},
   "outputs": [],
   "source": [
    "text = clip.tokenize([\"a car on the left\"]).to(device)\n",
    "\n",
    "with torch.no_grad():\n",
    "    text_features = model.encode_text(text)"
   ]
  },
  {
   "cell_type": "code",
   "execution_count": 5,
   "metadata": {},
   "outputs": [],
   "source": [
    "def logit_img_txt(img_feat, txt_feat, model):\n",
    "    img_feat = img_feat / img_feat.norm(dim=1, keepdim=True)\n",
    "    txt_feat = txt_feat / txt_feat.norm(dim=1, keepdim=True)\n",
    "\n",
    "    # cosine similarity as logits\n",
    "    logit_scale = model.logit_scale.exp()\n",
    "    logits_per_image = logit_scale * image_features @ text_features.t()\n",
    "    logits_per_text = logits_per_image.t()\n",
    "    return logits_per_text"
   ]
  },
  {
   "cell_type": "code",
   "execution_count": 6,
   "metadata": {},
   "outputs": [],
   "source": [
    "tmp = [logit_img_txt(img_feat, text_features, model) for img, img_feat in image_feat.items()]"
   ]
  },
  {
   "cell_type": "code",
   "execution_count": 9,
   "metadata": {},
   "outputs": [
    {
     "data": {
      "text/plain": [
       "(tensor([[2870.]], device='cuda:0', dtype=torch.float16, grad_fn=<MmBackward0>),\n",
       " tensor([[2870.]], device='cuda:0', dtype=torch.float16, grad_fn=<TBackward0>))"
      ]
     },
     "execution_count": 9,
     "metadata": {},
     "output_type": "execute_result"
    }
   ],
   "source": [
    "tmp[2]"
   ]
  },
  {
   "cell_type": "code",
   "execution_count": null,
   "metadata": {},
   "outputs": [],
   "source": []
  }
 ],
 "metadata": {
  "interpreter": {
   "hash": "39c912f2fd3fdf7d106cc51aff015157ada41dad8144becd8bcb717d81c78182"
  },
  "kernelspec": {
   "display_name": "Python 3.9.7 ('base')",
   "language": "python",
   "name": "python3"
  },
  "language_info": {
   "codemirror_mode": {
    "name": "ipython",
    "version": 3
   },
   "file_extension": ".py",
   "mimetype": "text/x-python",
   "name": "python",
   "nbconvert_exporter": "python",
   "pygments_lexer": "ipython3",
   "version": "3.9.7"
  },
  "orig_nbformat": 4
 },
 "nbformat": 4,
 "nbformat_minor": 2
}
