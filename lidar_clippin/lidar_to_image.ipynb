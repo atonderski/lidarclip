{
 "cells": [
  {
   "cell_type": "code",
   "execution_count": null,
   "metadata": {},
   "outputs": [],
   "source": [
    "import torch\n",
    "\n",
    "device = \"cuda\" if torch.cuda.is_available() else \"cpu\"\n",
    "print(device)"
   ]
  },
  {
   "cell_type": "code",
   "execution_count": null,
   "metadata": {},
   "outputs": [],
   "source": [
    "from lidar_clippin.model.sst import build_sst\n",
    "from mmcv.runner import load_checkpoint\n",
    "from lidar_clippin.model.sst import LidarEncoderSST\n",
    "import pytorch_lightning as pl\n",
    "import clip\n",
    "import os\n",
    "\n",
    "\n",
    "class LidarClippin(pl.LightningModule):\n",
    "    def __init__(self, lidar_encoder: LidarEncoderSST, clip_model, batch_size: int):\n",
    "        super().__init__()\n",
    "        self.lidar_encoder = lidar_encoder\n",
    "        self.clip = clip_model\n",
    "        self.batch_size = batch_size\n",
    "        for param in self.clip.parameters():\n",
    "            param.requires_grad = False\n",
    "\n",
    "    def training_step(self, batch, batch_idx):\n",
    "        image, point_cloud = batch\n",
    "        with torch.no_grad():\n",
    "            image_features = self.clip.encode_image(image)\n",
    "        lidar_features = self.lidar_encoder(point_cloud)\n",
    "        loss = F.mse_loss((image_features), (lidar_features))\n",
    "        self.log(\"train_loss\", loss)\n",
    "        return loss\n",
    "\n",
    "    def configure_optimizers(self):\n",
    "        optimizer = torch.optim.Adam(self.lidar_encoder.parameters(), lr=1e-5)\n",
    "        steps_per_epoch = (3618846//self.batch_size)//self.trainer.accumulate_grad_batches\n",
    "        scheduler = torch.optim.lr_scheduler.OneCycleLR(\n",
    "            optimizer,\n",
    "            max_lr=1e-3,\n",
    "            #total_steps=self.trainer.estimated_stepping_batches,\n",
    "            pct_start=0.1,\n",
    "            steps_per_epoch=steps_per_epoch,\n",
    "            epochs=self.trainer.max_epochs,\n",
    "        )\n",
    "        scheduler = {\"scheduler\": scheduler, \"interval\" : \"step\"}\n",
    "        return [optimizer], [scheduler]\n",
    "\n",
    "\n",
    "clip_model, clip_preprocess = clip.load(\"ViT-B/32\")\n",
    "lidar_encoder = LidarEncoderSST(\"model/sst_encoder_only_config.py\")\n",
    "model = LidarClippin(lidar_encoder, clip_model, 1)\n",
    "checkpoint_path = \"wycby2lk/checkpoints/epoch=71-step=40680.ckpt\"\n",
    "checkpoint_path = \"2ztxgqwf/checkpoints/epoch=37-step=12806.ckpt\"\n",
    "load_checkpoint(model, \"/proj/nlp4adas/checkpoints/35vsmuyp/epoch=97-step=32842.ckpt\", map_location=\"cpu\")\n",
    "model.to(device)"
   ]
  },
  {
   "cell_type": "code",
   "execution_count": null,
   "metadata": {},
   "outputs": [],
   "source": [
    "from lidar_clippin.loader import build_loader\n",
    "\n",
    "loader = build_loader(\"/proj/nlp4adas/datasets/once\", clip_preprocess, batch_size=16, num_workers=2, split=\"test\")"
   ]
  },
  {
   "cell_type": "code",
   "execution_count": null,
   "metadata": {},
   "outputs": [],
   "source": [
    "images, lidars = next(iter(loader))\n",
    "\n",
    "lidars = [lid .to(device) for lid in lidars]\n",
    "images = [img.to(device) for img in images]"
   ]
  },
  {
   "cell_type": "code",
   "execution_count": null,
   "metadata": {},
   "outputs": [],
   "source": [
    "from einops import rearrange\n",
    "from matplotlib import pyplot as plt\n",
    "means = torch.tensor([0.48145466, 0.4578275, 0.40821073], device=\"cpu\")\n",
    "stds = torch.tensor([0.26862954, 0.26130258, 0.27577711], device=\"cpu\")\n",
    "\n",
    "fig, axs = plt.subplots(4,4, figsize=(15, 15))\n",
    "for i in range(4):\n",
    "    for j in range(4):\n",
    "        idx = i*4 + j\n",
    "        \n",
    "        axs[i,j].imshow(rearrange(images[idx], \"c h w -> h w c\").cpu()*stds+means)\n",
    "        axs[i,j].set_title(idx)"
   ]
  },
  {
   "cell_type": "code",
   "execution_count": null,
   "metadata": {},
   "outputs": [],
   "source": [
    "import numpy as np\n",
    "fig, axs = plt.subplots(4,4, figsize=(30, 15))\n",
    "for i in range(4):\n",
    "    for j in range(4):\n",
    "        idx = i*4 + j\n",
    "        pc = lidars[idx].cpu()\n",
    "        axs[i,j].scatter(-pc[:,1], pc[:,0], s=0.1, c=np.clip(pc[:, 3], 0, 1), cmap=\"coolwarm\")\n",
    "        axs[i,j].axis(\"equal\")\n",
    "        axs[i,j].set_xlim(-40, 40)\n",
    "        axs[i,j].set_ylim(0, 40)\n",
    "        axs[i,j].set_title(idx)\n",
    "\n",
    "plt.show()"
   ]
  },
  {
   "cell_type": "code",
   "execution_count": null,
   "metadata": {},
   "outputs": [],
   "source": [
    "out, weights = model.lidar_encoder(lidars)\n",
    "out = out.float()"
   ]
  },
  {
   "cell_type": "code",
   "execution_count": null,
   "metadata": {},
   "outputs": [],
   "source": [
    "torch.save(out, 'lidar_out.pt')"
   ]
  },
  {
   "cell_type": "code",
   "execution_count": null,
   "metadata": {},
   "outputs": [],
   "source": [
    "# Encode some text\n",
    "text = clip.tokenize([\"a car\", \"a bus\", \"a truck\", \"a person\", \"a construction vehicle\", \"a tree\", \"a bush\"]).to(device)\n",
    "#text = clip.tokenize([\"a rural road\", \"a urban road\", \"a highway\", \"an overhead bridge\", \"a cross-walk\"]).to(device)\n",
    "#text = clip.tokenize([\"an image at night\", \"an image during the day\"]).to(device)\n",
    "#text = clip.tokenize([\"a road with cars\", \"an empty road\"]).to(device)\n",
    "#text = clip.tokenize([\"a tiny car\", \"a small car\", \"a normal-size car\", \"a big car\", \"a huge car\"]).to(device)\n",
    "#text = clip.tokenize([\"a white car\", \"a black car\", \"a red car\", \"a green car\", \"a blue car\", \"a yellow car\"]).to(device)\n",
    "#text = clip.tokenize([\"a cross-walk\", \"an empty road\", \"a crossing\"]).to(device)\n",
    "#text = clip.tokenize([\"a wet road\", \"a dry road\"]).to(device)\n",
    "#text = clip.tokenize([\"the front of a car\", \"the back of a car\", \"the side of a car\"]).to(device)\n",
    "text = clip.tokenize([\"a photo of a car in traffic\", \"a photo of a person in traffic\", \"a photo of a bike in traffic\", \"a photo of an empty road\"]).to(device)\n",
    "with torch.no_grad():\n",
    "    text_features = clip_model.encode_text(text)\n"
   ]
  },
  {
   "cell_type": "code",
   "execution_count": null,
   "metadata": {},
   "outputs": [],
   "source": [
    "# Lidar logits\n",
    "logits_per_text, logits_per_image = logit_img_txt(out, text_features, clip_model)\n",
    "#print(logits_per_text)\n",
    "print(logits_per_text.softmax(0).T)\n",
    "print(logits_per_image)\n",
    "print(logits_per_image.softmax(0))\n",
    "print(\"*\"*20)\n",
    "\n",
    "# Image logits\n",
    "logits_per_text, logits_per_image = logit_img_txt(clip_model.encode_image(torch.cat([i.unsqueeze(0) for i in images])), text_features, clip_model)\n",
    "#print(logits_per_text)\n",
    "print(logits_per_text.softmax(0).T)\n",
    "print(logits_per_image)\n",
    "print(logits_per_image.softmax(0))"
   ]
  },
  {
   "cell_type": "code",
   "execution_count": null,
   "metadata": {},
   "outputs": [],
   "source": []
  },
  {
   "cell_type": "code",
   "execution_count": null,
   "metadata": {},
   "outputs": [],
   "source": [
    "def logit_img_txt(img_feat, txt_feat, model):\n",
    "    img_feat = img_feat / img_feat.norm(dim=1, keepdim=True)\n",
    "    txt_feat = txt_feat / txt_feat.norm(dim=1, keepdim=True)\n",
    "\n",
    "    # cosine similarity as logits\n",
    "    logit_scale = model.logit_scale.exp().float()\n",
    "    logits_per_image = logit_scale * img_feat.float() @ txt_feat.t().float()\n",
    "    logits_per_text = logits_per_image.t()\n",
    "    return logits_per_text, logits_per_image"
   ]
  },
  {
   "cell_type": "code",
   "execution_count": null,
   "metadata": {},
   "outputs": [],
   "source": [
    "image_feat_tensor = torch.cat([img_feat for img_feat in image_feat.values()])\n",
    "\n",
    "logits_per_text, logits_per_image = logit_img_txt(image_feat_tensor, text_features, model)"
   ]
  },
  {
   "cell_type": "code",
   "execution_count": null,
   "metadata": {},
   "outputs": [],
   "source": [
    "logits_per_image[logits_per_image.argmax()]"
   ]
  },
  {
   "cell_type": "code",
   "execution_count": null,
   "metadata": {},
   "outputs": [],
   "source": [
    "list(image_feat.keys())[logits_per_image.argmax()]"
   ]
  },
  {
   "cell_type": "code",
   "execution_count": null,
   "metadata": {},
   "outputs": [],
   "source": [
    "top_imgs_idx = torch.topk(logits_per_image.squeeze(), 5)\n",
    "for idx in top_imgs_idx[1]:\n",
    "    img = list(image_feat.keys())[idx]\n",
    "    img = Image.open(img)\n",
    "    img.show()"
   ]
  },
  {
   "cell_type": "code",
   "execution_count": null,
   "metadata": {},
   "outputs": [],
   "source": [
    "top_imgs_idx = torch.topk(-logits_per_image.squeeze(), 5)\n",
    "for idx in top_imgs_idx[1]:\n",
    "    img = list(image_feat.keys())[idx]\n",
    "    img = Image.open(img)\n",
    "    img.show()"
   ]
  },
  {
   "cell_type": "code",
   "execution_count": null,
   "metadata": {},
   "outputs": [],
   "source": []
  },
  {
   "cell_type": "code",
   "execution_count": null,
   "metadata": {},
   "outputs": [],
   "source": []
  }
 ],
 "metadata": {
  "kernelspec": {
   "display_name": "Python 3",
   "language": "python",
   "name": "python3"
  },
  "language_info": {
   "codemirror_mode": {
    "name": "ipython",
    "version": 3
   },
   "file_extension": ".py",
   "mimetype": "text/x-python",
   "name": "python",
   "nbconvert_exporter": "python",
   "pygments_lexer": "ipython3",
   "version": "3.7.12"
  },
  "vscode": {
   "interpreter": {
    "hash": "14a4ba28da6003744c22a3a46bb15a1aa763f7587f58d35f583420b6e892bffb"
   }
  }
 },
 "nbformat": 4,
 "nbformat_minor": 2
}
