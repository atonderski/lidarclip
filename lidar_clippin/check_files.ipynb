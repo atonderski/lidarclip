{
 "cells": [
  {
   "cell_type": "code",
   "execution_count": null,
   "id": "a3af51fc",
   "metadata": {},
   "outputs": [],
   "source": [
    "import torch\n",
    "device = \"cuda\" if torch.cuda.is_available() else \"cpu\"\n",
    "print(device)\n",
    "\n",
    "from lidar_clippin.loader import build_loader\n",
    "import clip\n",
    "clip_model, clip_preprocess = clip.load(\"ViT-B/32\")\n",
    "loader = build_loader(\"/proj/nlp4adas/datasets/once\", clip_preprocess, batch_size=64, num_workers=16)\n"
   ]
  },
  {
   "cell_type": "code",
   "execution_count": null,
   "id": "f7308a43",
   "metadata": {},
   "outputs": [],
   "source": [
    "import os\n",
    "mem_size = \"65G\"\n",
    "os.system(f\"mount -o remount,size={mem_size} /dev/shm\")\n"
   ]
  },
  {
   "cell_type": "code",
   "execution_count": null,
   "id": "311261b3",
   "metadata": {},
   "outputs": [],
   "source": [
    "import time\n",
    "for i, batch in enumerate(loader):\n",
    "    if i % 1 == 0:\n",
    "        print(i)\n",
    "    images, lidars = batch\n",
    "    time.sleep(0.1)\n"
   ]
  },
  {
   "cell_type": "code",
   "execution_count": null,
   "id": "0b96305d",
   "metadata": {},
   "outputs": [],
   "source": []
  }
 ],
 "metadata": {
  "kernelspec": {
   "display_name": "Python 3.7.12 ('lidar-clipping')",
   "language": "python",
   "name": "python3"
  },
  "language_info": {
   "codemirror_mode": {
    "name": "ipython",
    "version": 3
   },
   "file_extension": ".py",
   "mimetype": "text/x-python",
   "name": "python",
   "nbconvert_exporter": "python",
   "pygments_lexer": "ipython3",
   "version": "3.7.12"
  },
  "vscode": {
   "interpreter": {
    "hash": "14a4ba28da6003744c22a3a46bb15a1aa763f7587f58d35f583420b6e892bffb"
   }
  }
 },
 "nbformat": 4,
 "nbformat_minor": 5
}
